{
 "cells": [
  {
   "cell_type": "markdown",
   "metadata": {},
   "source": [
    "# Machine Learning LAB 3\n",
    "# IMAGE CLASSIFICATION WITH NEURAL NETWORKS\n",
    "Course 2022/23: P. Zanuttigh, F. Barbato, M. Mel\n",
    "\n",
    "The notebook contains some simple tasks to be performed with **NEURAL NETWORKS (NNs)**. <br>\n",
    "Complete all the **required code sections** and **answer to all the questions**. <br>\n",
    "\n",
    "### IMPORTANT for the evaluation score:\n",
    "1. **Read carefully all cells** and **follow the instructions**\n",
    "2. **Re-run all the code from the beginning** to obtain the results for the final version of your notebook, since this is the way we will do it before evaluating your notebooks.\n",
    "3. Make sure to fill the code in the appropriate places **without modifying the template**, otherwise you risk breaking later cells.\n",
    "4. Please **submit the jupyter notebook file (.ipynb)**, do not submit python scripts (.py) or plain text files. **Make sure that it runs fine with the restat&run all command**.\n",
    "5. **Answer the questions in the appropriate cells**, not in the ones where the question is presented."
   ]
  },
  {
   "attachments": {},
   "cell_type": "markdown",
   "metadata": {},
   "source": [
    "<div class=\"alert alert-block alert-warning\">\n",
    "I will use yellow boxes to highlight personal comments (i.e. markdown cells that I have written in between the code cells) to better differentiate between \"template\" markdown cells and my own markdown cells. \n",
    "</div>"
   ]
  },
  {
   "cell_type": "markdown",
   "metadata": {},
   "source": [
    "# Clothes Classification with Neural Networks\n",
    "\n",
    "In this notebook we are going to explore the Neural Networks for image classification. We are going to use [**Fashion MNIST**](https://github.com/zalandoresearch/fashion-mnist), a dataset of small images of clothes and accessories.\n",
    "\n",
    "The dataset labels are the following:\n",
    "\n",
    "| Label | Description |\n",
    "| --- | --- |\n",
    "| 0 | T-shirt/top |\n",
    "| 1 | Trouser |\n",
    "| 2 | Pullover |\n",
    "| 3 | Dress |\n",
    "| 4 | Coat |\n",
    "| 5 | Sandal |\n",
    "| 6 | Shirt |\n",
    "| 7 | Sneaker |\n",
    "| 8 | Bag |\n",
    "| 9 | Ankle boot |"
   ]
  },
  {
   "cell_type": "code",
   "execution_count": 1,
   "metadata": {},
   "outputs": [
    {
     "name": "stdout",
     "output_type": "stream",
     "text": [
      "scikit-learn version:  1.0.2\n"
     ]
    }
   ],
   "source": [
    "# load the required packages and check Scikit-learn version\n",
    "%matplotlib inline  \n",
    "\n",
    "import numpy as np\n",
    "from matplotlib import pyplot as plt\n",
    "\n",
    "import sklearn\n",
    "print ('scikit-learn version: ', sklearn.__version__)\n",
    "from sklearn.neural_network import MLPClassifier\n",
    "from sklearn.model_selection import GridSearchCV\n",
    "from sklearn.svm import SVC\n",
    "\n",
    "#from sklearnex import patch_sklearn # if you have an Intel CPU and have installed the Intel MKL \n",
    "#patch_sklearn()                     # library you can uncomment these lines for a speedup\n",
    "\n",
    "import seaborn as sns\n",
    "from sklearn.model_selection import KFold\n"
   ]
  },
  {
   "cell_type": "code",
   "execution_count": 2,
   "metadata": {},
   "outputs": [],
   "source": [
    "# helper function to load Fashion MNIST dataset from disk\n",
    "def load_mnist(path, kind='train'):\n",
    "    import os\n",
    "    import gzip\n",
    "    import numpy as np\n",
    "    labels_path = os.path.join(path, '%s-labels-idx1-ubyte.gz' % kind)\n",
    "    images_path = os.path.join(path, '%s-images-idx3-ubyte.gz' % kind)\n",
    "    with gzip.open(labels_path, 'rb') as lbpath:\n",
    "        labels = np.frombuffer(lbpath.read(), dtype=np.uint8,offset=8)\n",
    "    with gzip.open(images_path, 'rb') as imgpath:\n",
    "        images = np.frombuffer(imgpath.read(), dtype=np.uint8,offset=16).reshape(len(labels), 784)\n",
    "    return images, labels"
   ]
  },
  {
   "cell_type": "markdown",
   "metadata": {
    "tags": []
   },
   "source": [
    "Place your **name** and **ID number** (matricola) in the cell below. <br>\n",
    "Also recall to **save the file as Surname_Name_LAB3.ipynb**"
   ]
  },
  {
   "cell_type": "markdown",
   "metadata": {},
   "source": [
    "**Student name**: Mario Rossi<br>\n",
    "**ID Number**: 1234567"
   ]
  },
  {
   "cell_type": "markdown",
   "metadata": {},
   "source": [
    "# A) Hyperparameter Search"
   ]
  },
  {
   "cell_type": "markdown",
   "metadata": {},
   "source": [
    "**TO DO A.0:** **Set** the random **seed** using your **ID**. If you need to change it for testing add a constant explicitly, eg.: `ID = 1234567 + 1`."
   ]
  },
  {
   "cell_type": "code",
   "execution_count": 3,
   "metadata": {},
   "outputs": [],
   "source": [
    "ID = 2090566 + 1\n",
    "np.random.seed(ID)"
   ]
  },
  {
   "cell_type": "markdown",
   "metadata": {},
   "source": [
    "Before proceding to the training steps, we **load the dataset**. <br>\n",
    "The **split** is **performed after applying a random permutation** to the dataset, such permutation will **depend on the seed** you set above.<br><br>\n",
    "**DO NOT CHANGE THE PRE-WRITTEN CODE UNLESS OTHERWISE SPECIFIED**"
   ]
  },
  {
   "cell_type": "code",
   "execution_count": 4,
   "metadata": {},
   "outputs": [
    {
     "name": "stdout",
     "output_type": "stream",
     "text": [
      "Number of samples in the MNIST dataset: 60000\n"
     ]
    }
   ],
   "source": [
    "# load the MNIST dataset\n",
    "X, y = load_mnist(\"data\")\n",
    "print(\"Number of samples in the MNIST dataset:\", X.shape[0])\n",
    "# rescale the data to [0, 1]\n",
    "X = X / 255.0"
   ]
  },
  {
   "cell_type": "markdown",
   "metadata": {},
   "source": [
    "**TO DO A.1:** **Divide** the **data into training and test set** using a **500** samples in the **training set**. <br>\n",
    "Make sure that **each label** is present at **least 10 times** in training frequencies."
   ]
  },
  {
   "cell_type": "code",
   "execution_count": 6,
   "metadata": {},
   "outputs": [
    {
     "name": "stdout",
     "output_type": "stream",
     "text": [
      "Number of samples in the training dataset: 500\n",
      "Number of samples in the test dataset: 59500\n",
      "Labels in training dataset:  [0 1 2 3 4 5 6 7 8 9]\n",
      "Frequencies in training dataset:  [42 46 42 58 56 61 51 47 41 56]\n"
     ]
    }
   ],
   "source": [
    "# randomly permute the data and split into training and test taking \n",
    "# the first 500 data samples as training and the rests as test\n",
    "permutation = np.random.permutation(X.shape[0])\n",
    "\n",
    "X = X[permutation]\n",
    "y = y[permutation]\n",
    "\n",
    "m_training = 500\n",
    "\n",
    "X_train, X_test = X[:m_training], X[m_training:]\n",
    "y_train, y_test = y[:m_training], y[m_training:]\n",
    "\n",
    "print(\"Number of samples in the training dataset:\", X_train.shape[0])\n",
    "print(\"Number of samples in the test dataset:\", X_test.shape[0])\n",
    "\n",
    "labels, freqs = np.unique(y_train, return_counts=True)\n",
    "print(\"Labels in training dataset: \", labels)\n",
    "print(\"Frequencies in training dataset: \", freqs)"
   ]
  },
  {
   "cell_type": "code",
   "execution_count": 7,
   "metadata": {},
   "outputs": [],
   "source": [
    "# function for plotting a image and printing the corresponding label\n",
    "def plot_input(X_matrix, labels, index):\n",
    "    print(\"INPUT:\")\n",
    "    plt.imshow(\n",
    "        X_matrix[index].reshape(28,28),\n",
    "        cmap          = plt.cm.gray_r,\n",
    "        interpolation = \"nearest\"\n",
    "    )\n",
    "    plt.show()\n",
    "    print(\"LABEL: %i\"%labels[index])\n",
    "    return"
   ]
  },
  {
   "cell_type": "code",
   "execution_count": 8,
   "metadata": {},
   "outputs": [
    {
     "name": "stdout",
     "output_type": "stream",
     "text": [
      "INPUT:\n"
     ]
    },
    {
     "data": {
      "image/png": "[encoded data removed]",
      "text/plain": [
       "<Figure size 432x288 with 1 Axes>"
      ]
     },
     "metadata": {
      "needs_background": "light"
     },
     "output_type": "display_data"
    },
    {
     "name": "stdout",
     "output_type": "stream",
     "text": [
      "LABEL: 7\n",
      "INPUT:\n"
     ]
    },
    {
     "data": {
      "image/png": "[encoded data removed]",
      "text/plain": [
       "<Figure size 432x288 with 1 Axes>"
      ]
     },
     "metadata": {
      "needs_background": "light"
     },
     "output_type": "display_data"
    },
    {
     "name": "stdout",
     "output_type": "stream",
     "text": [
      "LABEL: 1\n",
      "INPUT:\n"
     ]
    },
    {
     "data": {
      "image/png": "[encoded data removed]",
      "text/plain": [
       "<Figure size 432x288 with 1 Axes>"
      ]
     },
     "metadata": {
      "needs_background": "light"
     },
     "output_type": "display_data"
    },
    {
     "name": "stdout",
     "output_type": "stream",
     "text": [
      "LABEL: 1\n"
     ]
    }
   ],
   "source": [
    "# let's try the plotting function\n",
    "plot_input(X_train,y_train,10)\n",
    "plot_input(X_test,y_test,100)\n",
    "plot_input(X_test,y_test,10000)"
   ]
  },
  {
   "cell_type": "markdown",
   "metadata": {},
   "source": [
    "**TO DO A.2** Now **use a feed-forward Neural Network** for prediction. <br><br>\n",
    "Use the **multi-layer perceptron** classifier, with the following parameters: <br>\n",
    "`max_iter=250, alpha=1e-4, solver='sgd', tol=1e-4, learning_rate_init=.1, random_state=ID` <br>\n",
    "The `random_state` parameter ensures the run is the same even if you run it more than once, while the `alpha` parameter is the regularization term.<br>\n",
    "You might get some **warnings about the convergence**, ignore them (or try to increase the max_iter parameter if you have a powerful computer). <br>\n",
    "\n",
    "Then, using the default activation function, **pick four or five architectures** to consider, with different numbers of hidden layers and different sizes. <br>\n",
    "It is not necessary to create huge neural networks, you can limit to 3 layers and, for each layer, its maximum size can be of 100. <br>\n",
    "Evaluate the architectures you chose using **GridSearchCV with cv=5**. <br>\n",
    "\n",
    "You can reduce the number of iterations if the running time is too long on your computer."
   ]
  },
  {
   "cell_type": "code",
   "execution_count": 11,
   "metadata": {},
   "outputs": [
    {
     "name": "stdout",
     "output_type": "stream",
     "text": [
      "Fitting 5 folds for each of 5 candidates, totalling 25 fits\n",
      "RESULTS FOR NN\n",
      "\n",
      "Best parameters set found:\n",
      "{'hidden_layer_sizes': (50,)}\n",
      "Score with best parameters:\n",
      "0.7460000000000001\n",
      "\n",
      "Mean scores on the grid:\n",
      "[0.654 0.728 0.746 0.536 0.488]\n"
     ]
    }
   ],
   "source": [
    "# these are sample values but feel free to change them as you like, try to experiment with different sizes!!\n",
    "parameters = {'hidden_layer_sizes': [(10,), (25,), (50,), (25,10,), (50,25,10) ]}\n",
    "\n",
    "# multi-layer perceptron classifier\n",
    "mlp = MLPClassifier(max_iter=1000, alpha=1e-4, solver='sgd', tol=1e-4, random_state=ID, learning_rate_init=.1)\n",
    "\n",
    "# grid search cross validation over the architecture parameters\n",
    "mlp_arch_CV = GridSearchCV(mlp, parameters, cv=5, n_jobs=-1, verbose=1)\n",
    "mlp_arch_CV.fit(X_train, y_train)\n",
    "\n",
    "print ('RESULTS FOR NN\\n')\n",
    "print(\"Best parameters set found:\")\n",
    "print(mlp_arch_CV.best_params_)\n",
    "\n",
    "print(\"Score with best parameters:\")\n",
    "print(mlp_arch_CV.best_score_)\n",
    "\n",
    "print(\"\\nMean scores on the grid:\")\n",
    "print(mlp_arch_CV.cv_results_['mean_test_score'])"
   ]
  },
  {
   "cell_type": "markdown",
   "metadata": {},
   "source": [
    "**TO DO A.3** Now **try different batch sizes**, while keeping the **best NN** architecture you have found above. <br>\n",
    "Remember that the batch size was previously set to the default value, i.e., `min(200, n_samples)`. <br>\n",
    "\n",
    "Recall that a **batch size of 1 corresponds to baseline SGD**, while using all the **400 training samples** (there are 500 samples but in cross validation with 5 folders we use 1/5 of them for validation at each round) corresponds to **standard GD** and using a different mini-batch size lies in the middle between the two extreme cases."
   ]
  },
  {
   "cell_type": "code",
   "execution_count": 12,
   "metadata": {},
   "outputs": [
    {
     "name": "stdout",
     "output_type": "stream",
     "text": [
      "Fitting 5 folds for each of 3 candidates, totalling 15 fits\n",
      "RESULTS FOR NN\n",
      "\n",
      "Best parameters set found:\n",
      "{'batch_size': 400}\n",
      "Score with best parameters:\n",
      "0.744\n",
      "\n",
      "All scores on the grid:\n",
      "[0.11  0.706 0.744]\n"
     ]
    }
   ],
   "source": [
    "# these are sample values corresponding to baseline SGD, a reasonable mini-batch size and standard GD\n",
    "# again feel free to change them as you like, try to experiment with different batch sizes!!\n",
    "\n",
    "\n",
    "parameters = {'batch_size': [1, 32, 400]}\n",
    "\n",
    "# need to specify that you would like to use the standard k-fold split otherwise sklearn create splits of different sizes\n",
    "kf = KFold(n_splits=5, shuffle=True, random_state=ID)\n",
    "best_hidden_layer_sizes = mlp_arch_CV.best_params_['hidden_layer_sizes']\n",
    "mlp = MLPClassifier(max_iter=1000, alpha=1e-4, solver='sgd', tol=1e-4, random_state=ID, learning_rate_init=.1, hidden_layer_sizes=best_hidden_layer_sizes)\n",
    "\n",
    "# recall to use cv=kf to use the k-fold subdivision seen in the lectures\n",
    "mlp_batch_CV = GridSearchCV(mlp, parameters, cv=kf, n_jobs=-1, verbose=1)\n",
    "mlp_batch_CV.fit(X_train, y_train)\n",
    "\n",
    "print ('RESULTS FOR NN\\n')\n",
    "print(\"Best parameters set found:\")\n",
    "print(mlp_batch_CV.best_params_)\n",
    "\n",
    "print(\"Score with best parameters:\")\n",
    "print(mlp_batch_CV.best_score_)\n",
    "\n",
    "print(\"\\nAll scores on the grid:\")\n",
    "print(mlp_batch_CV.cv_results_['mean_test_score'])"
   ]
  },
  {
   "attachments": {},
   "cell_type": "markdown",
   "metadata": {},
   "source": [
    "<div class=\"alert alert-block alert-warning\">\n",
    "To better understand the behavior of the learning model with respect to both the architecture and the batch size, let me build a slightly bigger grid search combining the two parameters. <br>\n",
    "</div>"
   ]
  },
  {
   "cell_type": "code",
   "execution_count": 55,
   "metadata": {},
   "outputs": [
    {
     "name": "stdout",
     "output_type": "stream",
     "text": [
      "Fitting 5 folds for each of 25 candidates, totalling 125 fits\n",
      "RESULTS FOR NN\n",
      "\n",
      "Best parameters set found:\n",
      "{'batch_size': 200, 'hidden_layer_sizes': (50,)}\n",
      "Score with best parameters:\n",
      "0.748\n",
      "\n",
      "All scores on the grid:\n",
      "[0.086 0.09  0.11  0.112 0.074 0.588 0.68  0.706 0.396 0.446 0.616 0.746\n",
      " 0.744 0.572 0.5   0.652 0.744 0.748 0.454 0.546 0.698 0.73  0.744 0.582\n",
      " 0.388]\n"
     ]
    }
   ],
   "source": [
    "parameters = {\n",
    "    \"hidden_layer_sizes\": [(10,), (25,), (50,), (25,10,), (50,25,10)],\n",
    "    \"batch_size\": [1, 32, 100, 200, 400],\n",
    "}\n",
    "\n",
    "kf = KFold(n_splits=5, shuffle=True, random_state=ID)\n",
    "\n",
    "mlp = MLPClassifier(max_iter=1000, alpha=1e-4, solver='sgd', tol=1e-4, random_state=ID, learning_rate_init=.1)\n",
    "\n",
    "mlp_batch_CV = GridSearchCV(mlp, parameters, cv=kf, n_jobs=-1, verbose=1)\n",
    "mlp_batch_CV.fit(X_train, y_train)\n",
    "\n",
    "print ('RESULTS FOR NN\\n')\n",
    "print(\"Best parameters set found:\")\n",
    "print(mlp_batch_CV.best_params_)\n",
    "\n",
    "print(\"Score with best parameters:\")\n",
    "print(mlp_batch_CV.best_score_)\n",
    "\n",
    "print(\"\\nAll scores on the grid:\")\n",
    "print(mlp_batch_CV.cv_results_['mean_test_score'])"
   ]
  },
  {
   "cell_type": "code",
   "execution_count": 60,
   "metadata": {},
   "outputs": [
    {
     "data": {
      "image/png": "[encoded data removed]",
      "text/plain": [
       "<Figure size 720x720 with 2 Axes>"
      ]
     },
     "metadata": {
      "needs_background": "light"
     },
     "output_type": "display_data"
    }
   ],
   "source": [
    "# display the score for each parameter combination tested during the grid search using a heatmap\n",
    "\n",
    "mat = mlp_batch_CV.cv_results_['mean_test_score'].reshape(5,5)\n",
    "\n",
    "fig, ax = plt.subplots(figsize=(10,10))\n",
    "\n",
    "# im = ax.imshow(mat, cmap='Blues', interpolation='nearest')\n",
    "im = sns.heatmap(mat, annot=True, fmt=\".2f\", cmap='Blues', ax=ax)\n",
    "    \n",
    "    \n",
    "ax.set_xticklabels(parameters['hidden_layer_sizes'])\n",
    "ax.set_yticklabels(parameters['batch_size'])\n",
    "\n",
    "ax.set_xlabel('hidden_layer_sizes')\n",
    "ax.set_ylabel('batch_size')\n",
    "\n",
    "plt.show()"
   ]
  },
  {
   "cell_type": "markdown",
   "metadata": {},
   "source": [
    "**TO DO A.Q1**\n",
    "\n",
    "- What do you observe for different architectures and batch sizes? <br>\n",
    "- How do the number of layers and their sizes affect the performances? <br>\n",
    "- What do you observe for different batch sizes, in particular what happens to the training convergence for different batch sizes (notice that the algorithm could not converge for some batch sizes)?"
   ]
  },
  {
   "attachments": {},
   "cell_type": "markdown",
   "metadata": {},
   "source": [
    "<div class=\"alert alert-block alert-info\">\n",
    "<strong>ANSWER A.Q1</strong>:<br>\n",
    "\n",
    "For what concernes the architecture of the network, I have observed that the best architecture strongly depends on the training set at hand. In particular, I am not referring to the dimension of the training set, but to the random choice of 500 examples out of the entire dataset. In fact, I have observed that the best architecture for a given training set is not necessarily the best architecture for another training set. This is due to the fact that the training set is not representative of the entire dataset, and therefore the best architecture for a given training set might not be the best architecture for the entire dataset. Howeser, the preferred networks have one single layer of 25 or 50 neurons. Hence, simple networks are (almost always) preferred to complex networks. <br>\n",
    "\n",
    "Surprisingly, the best batch size corresponds to having the standard gradient descent. I would have expected that the best batch size would have been a sweet spot between the batch size of 1 and the batch size of 400. However, this is not the case, and I can speculate that this is due to the fact that the training set is not representative of the entire dataset. <br>\n",
    "\n",
    "Finally, I have not seen any significant difference in the convergence of the training for different batch sizes. <br>\n",
    "\n",
    "To give a more complete answer, though, I have built a slightly bigger grid search that takes into account both the architecture and the batch size simultaneously. The results are coherent with the previous ones: the preferred networks are always the simple ones, although the simplest one (10 neurons in a single layer) performes slightly worse. Complex networks struggle due to the small size of the training set. The best batch size instead is not always the standard gradient descent, as I was expecting from the beginning. Though, since the score fluctuations are so small, I would say that using one layer of 25 neurons or one layer of 50 neurons with a sufficiently large batch size works fine. <br>\n",
    "\n",
    "\n",
    "</div>"
   ]
  },
  {
   "cell_type": "markdown",
   "metadata": {},
   "source": [
    "**TO DO A.4** Now **try** to use **different learning rates**, while keeping the **best NN architecture and batch size you have found above.** <br>\n",
    "**Plot the learning curves** (i.e., the variation of the loss over the steps, you can get it from the loss_curve_ object of sklearn) for the different values of the learning rate. <br>\n",
    "You might get warnings about the convergence, this is expected. Ignore them."
   ]
  },
  {
   "cell_type": "code",
   "execution_count": 61,
   "metadata": {},
   "outputs": [
    {
     "name": "stdout",
     "output_type": "stream",
     "text": [
      "Best hidden layer sizes: (50,)\n",
      "Best batch size: 200\n"
     ]
    }
   ],
   "source": [
    "lr_list = [4*10**exp for exp in range(-4,0)]\n",
    "scores = {}\n",
    "\n",
    "best_hidden_layer_sizes = mlp_arch_CV.best_params_['hidden_layer_sizes']\n",
    "best_batch_size = mlp_batch_CV.best_params_['batch_size']\n",
    "\n",
    "print(f'Best hidden layer sizes: {best_hidden_layer_sizes}')\n",
    "print(f'Best batch size: {best_batch_size}')"
   ]
  },
  {
   "cell_type": "code",
   "execution_count": 63,
   "metadata": {},
   "outputs": [
    {
     "name": "stdout",
     "output_type": "stream",
     "text": [
      "lr: 0.0004\n"
     ]
    },
    {
     "name": "stderr",
     "output_type": "stream",
     "text": [
      "/Users/niklai/miniforge3/lib/python3.9/site-packages/sklearn/neural_network/_multilayer_perceptron.py:692: ConvergenceWarning: Stochastic Optimizer: Maximum iterations (1000) reached and the optimization hasn't converged yet.\n",
      "  warnings.warn(\n"
     ]
    },
    {
     "name": "stdout",
     "output_type": "stream",
     "text": [
      "lr: 0.004\n",
      "lr: 0.04\n",
      "lr: 0.4\n"
     ]
    },
    {
     "data": {
      "image/png": "[encoded data removed]",
      "text/plain": [
       "<Figure size 720x432 with 1 Axes>"
      ]
     },
     "metadata": {
      "needs_background": "light"
     },
     "output_type": "display_data"
    },
    {
     "name": "stdout",
     "output_type": "stream",
     "text": [
      "best learning rate:  0.004\n"
     ]
    }
   ],
   "source": [
    "fig, ax = plt.subplots(figsize=(10,6))\n",
    "\n",
    "for lr in lr_list: \n",
    "    print(f'lr: {str(lr)}') # print the learning rate to see which one does not converge\n",
    "    mlp = MLPClassifier(max_iter=1000, alpha=1e-4, solver='sgd', tol=1e-4, random_state=ID, learning_rate_init=lr, hidden_layer_sizes=best_hidden_layer_sizes, batch_size=best_batch_size)\n",
    "    mlp.fit(X_train, y_train)\n",
    "    scores[lr] = mlp.score(X_test, y_test)\n",
    "    ax.plot(mlp.loss_curve_, label=f'lr: {str(lr)}')\n",
    "\n",
    "ax.legend()\n",
    "ax.set_xlabel('Number of iterations')\n",
    "ax.set_ylabel('Loss')\n",
    "plt.show()\n",
    "\n",
    "print(\"best learning rate: \", max(scores, key=scores.get))"
   ]
  },
  {
   "cell_type": "markdown",
   "metadata": {},
   "source": [
    "**Question A.Q2** Comment about the learning curves (i.e. the variation of the loss over the steps). <br>\n",
    "How does the curve changes for different learning rates in terms of stability and speed of convergence ?"
   ]
  },
  {
   "attachments": {},
   "cell_type": "markdown",
   "metadata": {},
   "source": [
    "<div class=\"alert alert-block alert-info\">\n",
    "<strong>ANSWER A.Q2</strong>:<br>\n",
    "\n",
    "Immediatly, we see that if the learning rate is too small (i.e. 0.0004) the training does not converge. This happens because the opimizer steps are too small and it takes longer to reach the minimum. On the other hand, if the learning rate is too large (i.e. 0.4) the training converges to a local minimum, and not to the global minimum. This happens because the optimizer steps are too large and it overshoots the minimum. <br>\n",
    "\n",
    "A good learning rate is the one that allows the training to converge to the global minimum in a reasonable amount of time. In this case, the best learning rate is 0.004. However, this is close to not converging in 1000 steps (the maximum number of steps allowed by the optimizer). A possibly better value for the learning rate is 0.04, which converges much faster to the same global minimum. <br>\n",
    "\n",
    "\n",
    "</div>"
   ]
  },
  {
   "cell_type": "markdown",
   "metadata": {},
   "source": [
    "**TO DO A.5** Now get **training and test error** for a NN with best parameters (architecture, batch size and learning rate)from above. Plot the learning curve also for this case. <br>\n",
    "As before, you might get a convergence warning, you can safely ignore it."
   ]
  },
  {
   "cell_type": "code",
   "execution_count": 65,
   "metadata": {
    "scrolled": true
   },
   "outputs": [
    {
     "name": "stdout",
     "output_type": "stream",
     "text": [
      "\n",
      "RESULTS FOR BEST NN\n",
      "\n",
      "Best NN training error: 0.000000\n",
      "Best NN test error: 0.218807\n"
     ]
    },
    {
     "data": {
      "image/png": "[encoded data removed]",
      "text/plain": [
       "<Figure size 720x432 with 1 Axes>"
      ]
     },
     "metadata": {
      "needs_background": "light"
     },
     "output_type": "display_data"
    }
   ],
   "source": [
    "best_learning_rate = max(scores, key=scores.get)\n",
    "\n",
    "mlp = MLPClassifier(\n",
    "    max_iter=1000, \n",
    "    alpha=1e-4, \n",
    "    solver='sgd', \n",
    "    tol=1e-4, \n",
    "    random_state=ID, \n",
    "    learning_rate_init=best_learning_rate, \n",
    "    hidden_layer_sizes=best_hidden_layer_sizes, \n",
    "    batch_size=best_batch_size\n",
    ")\n",
    "mlp.fit(X_train, y_train)\n",
    "\n",
    "training_score = mlp.score(X_train, y_train)\n",
    "training_error = 1 - training_score\n",
    "\n",
    "test_score = mlp.score(X_test, y_test)\n",
    "test_error = 1 - test_score\n",
    "\n",
    "print ('\\nRESULTS FOR BEST NN\\n')\n",
    "\n",
    "print (\"Best NN training error: %f\" % training_error)\n",
    "print (\"Best NN test error: %f\" % test_error)\n",
    "\n",
    "fig, ax = plt.subplots(figsize=(10,6))\n",
    "ax.plot(mlp.loss_curve_, label=\"loss\")\n",
    "ax.legend(loc = 1)\n",
    "ax.set_xlabel('Number of iterations')\n",
    "ax.set_ylabel('Loss')\n",
    "plt.show()"
   ]
  },
  {
   "cell_type": "markdown",
   "metadata": {},
   "source": [
    "## B) More data \n",
    "Now let's do the same but **using 20000** (or less if it takes too long on your machine) **data points for training**. <br>\n",
    "Make sure you are **consistent with the choice of `m_training`** in this and the later cells. <br>\n",
    "Use the **same NN architecture** as before, but you can try more if you like and have a powerful computer!!"
   ]
  },
  {
   "cell_type": "code",
   "execution_count": 66,
   "metadata": {},
   "outputs": [
    {
     "name": "stdout",
     "output_type": "stream",
     "text": [
      "Training dataset shape:  (20000, 784)\n",
      "Test dataset shape:  (40000, 784)\n",
      "Labels in training dataset:  [0 1 2 3 4 5 6 7 8 9]\n",
      "Frequencies in training dataset:  [1946 2006 2016 1988 2011 2027 1940 2010 2064 1992]\n"
     ]
    }
   ],
   "source": [
    "X = X[permutation]\n",
    "y = y[permutation]\n",
    "\n",
    "m_training = 20000\n",
    "\n",
    "X_train, X_test = X[:m_training], X[m_training:]\n",
    "y_train, y_test = y[:m_training], y[m_training:]\n",
    "\n",
    "print(\"Training dataset shape: \", X_train.shape)\n",
    "print(\"Test dataset shape: \", X_test.shape)\n",
    "\n",
    "labels, freqs = np.unique(y_train, return_counts=True)\n",
    "print(\"Labels in training dataset: \", labels)\n",
    "print(\"Frequencies in training dataset: \", freqs)"
   ]
  },
  {
   "cell_type": "markdown",
   "metadata": {},
   "source": [
    "**TO DO B.1** Train the NNs with the added data points using the optimum parameters found above. <br>\n",
    "Eventually, feel free to try different architectures if you like. <br>\n",
    "We suggest that you use `verbose=True` so have an idea of how long it takes to run 1 iteration (eventually reduce also the number of iterations to 50). <br>\n",
    "This is just for debug purposes, **remember to switch it off** once you found a setup you like. <br>\n",
    "As before, you might get a convergence warning (especially if you reduced the number of iterations), you can safely ignore it."
   ]
  },
  {
   "cell_type": "code",
   "execution_count": 67,
   "metadata": {},
   "outputs": [
    {
     "name": "stdout",
     "output_type": "stream",
     "text": [
      "Iteration 1, loss = 1.35787993\n",
      "Iteration 2, loss = 0.77743994\n",
      "Iteration 3, loss = 0.66430005\n",
      "Iteration 4, loss = 0.60419534\n",
      "Iteration 5, loss = 0.56634483\n",
      "Iteration 6, loss = 0.53880282\n",
      "Iteration 7, loss = 0.51866397\n",
      "Iteration 8, loss = 0.50207514\n",
      "Iteration 9, loss = 0.48871362\n",
      "Iteration 10, loss = 0.47865839\n",
      "Iteration 11, loss = 0.46794825\n",
      "Iteration 12, loss = 0.46058228\n",
      "Iteration 13, loss = 0.45166378\n",
      "Iteration 14, loss = 0.44535626\n",
      "Iteration 15, loss = 0.43927585\n",
      "Iteration 16, loss = 0.43213306\n",
      "Iteration 17, loss = 0.42734799\n",
      "Iteration 18, loss = 0.42256502\n",
      "Iteration 19, loss = 0.41801179\n",
      "Iteration 20, loss = 0.41361340\n",
      "Iteration 21, loss = 0.40968631\n",
      "Iteration 22, loss = 0.40449871\n",
      "Iteration 23, loss = 0.40090658\n",
      "Iteration 24, loss = 0.39814597\n",
      "Iteration 25, loss = 0.39466553\n",
      "Iteration 26, loss = 0.39130403\n",
      "Iteration 27, loss = 0.38847978\n",
      "Iteration 28, loss = 0.38528799\n",
      "Iteration 29, loss = 0.38228523\n",
      "Iteration 30, loss = 0.37972040\n",
      "Iteration 31, loss = 0.37594096\n",
      "Iteration 32, loss = 0.37418645\n",
      "Iteration 33, loss = 0.37124533\n",
      "Iteration 34, loss = 0.36872072\n",
      "Iteration 35, loss = 0.36585152\n",
      "Iteration 36, loss = 0.36378709\n",
      "Iteration 37, loss = 0.36146830\n",
      "Iteration 38, loss = 0.36054806\n",
      "Iteration 39, loss = 0.35730865\n",
      "Iteration 40, loss = 0.35497120\n",
      "Iteration 41, loss = 0.35286955\n",
      "Iteration 42, loss = 0.35061003\n",
      "Iteration 43, loss = 0.34953352\n",
      "Iteration 44, loss = 0.34643266\n",
      "Iteration 45, loss = 0.34646766\n",
      "Iteration 46, loss = 0.34241797\n",
      "Iteration 47, loss = 0.34198295\n",
      "Iteration 48, loss = 0.33946586\n",
      "Iteration 49, loss = 0.33801970\n",
      "Iteration 50, loss = 0.33634063\n",
      "Iteration 51, loss = 0.33444329\n",
      "Iteration 52, loss = 0.33257952\n",
      "Iteration 53, loss = 0.33042660\n",
      "Iteration 54, loss = 0.32852717\n",
      "Iteration 55, loss = 0.32758584\n",
      "Iteration 56, loss = 0.32604357\n",
      "Iteration 57, loss = 0.32394037\n",
      "Iteration 58, loss = 0.32382291\n",
      "Iteration 59, loss = 0.32009780\n",
      "Iteration 60, loss = 0.31973955\n",
      "Iteration 61, loss = 0.31846947\n",
      "Iteration 62, loss = 0.31602472\n",
      "Iteration 63, loss = 0.31504352\n",
      "Iteration 64, loss = 0.31260406\n",
      "Iteration 65, loss = 0.31210486\n",
      "Iteration 66, loss = 0.30996265\n",
      "Iteration 67, loss = 0.30910370\n",
      "Iteration 68, loss = 0.30733793\n",
      "Iteration 69, loss = 0.30701843\n",
      "Iteration 70, loss = 0.30473398\n",
      "Iteration 71, loss = 0.30317943\n",
      "Iteration 72, loss = 0.30254623\n",
      "Iteration 73, loss = 0.30078819\n",
      "Iteration 74, loss = 0.29943397\n",
      "Iteration 75, loss = 0.29782709\n",
      "Iteration 76, loss = 0.29629718\n",
      "Iteration 77, loss = 0.29617140\n",
      "Iteration 78, loss = 0.29409168\n",
      "Iteration 79, loss = 0.29242116\n",
      "Iteration 80, loss = 0.29131873\n",
      "Iteration 81, loss = 0.29057486\n",
      "Iteration 82, loss = 0.28923137\n",
      "Iteration 83, loss = 0.28763421\n",
      "Iteration 84, loss = 0.28569087\n",
      "Iteration 85, loss = 0.28509443\n",
      "Iteration 86, loss = 0.28398429\n",
      "Iteration 87, loss = 0.28241335\n",
      "Iteration 88, loss = 0.28101782\n",
      "Iteration 89, loss = 0.27896999\n",
      "Iteration 90, loss = 0.27936756\n",
      "Iteration 91, loss = 0.27707933\n",
      "Iteration 92, loss = 0.27776355\n",
      "Iteration 93, loss = 0.27626666\n",
      "Iteration 94, loss = 0.27315957\n",
      "Iteration 95, loss = 0.27426631\n",
      "Iteration 96, loss = 0.27168780\n",
      "Iteration 97, loss = 0.27195344\n",
      "Iteration 98, loss = 0.27001762\n",
      "Iteration 99, loss = 0.26841176\n",
      "Iteration 100, loss = 0.26744505\n",
      "Iteration 101, loss = 0.26612296\n",
      "Iteration 102, loss = 0.26570993\n",
      "Iteration 103, loss = 0.26426196\n",
      "Iteration 104, loss = 0.26432611\n",
      "Iteration 105, loss = 0.26245059\n",
      "Iteration 106, loss = 0.26211936\n",
      "Iteration 107, loss = 0.25962214\n",
      "Iteration 108, loss = 0.25946817\n",
      "Iteration 109, loss = 0.25860750\n",
      "Iteration 110, loss = 0.25703246\n",
      "Iteration 111, loss = 0.25595999\n",
      "Iteration 112, loss = 0.25487031\n",
      "Iteration 113, loss = 0.25438495\n",
      "Iteration 114, loss = 0.25305693\n",
      "Iteration 115, loss = 0.25216360\n",
      "Iteration 116, loss = 0.25165674\n",
      "Iteration 117, loss = 0.25107671\n",
      "Iteration 118, loss = 0.24974729\n",
      "Iteration 119, loss = 0.24841800\n",
      "Iteration 120, loss = 0.24803187\n",
      "Iteration 121, loss = 0.24691380\n",
      "Iteration 122, loss = 0.24684945\n",
      "Iteration 123, loss = 0.24526766\n",
      "Iteration 124, loss = 0.24387192\n",
      "Iteration 125, loss = 0.24273076\n",
      "Iteration 126, loss = 0.24245196\n",
      "Iteration 127, loss = 0.24176135\n",
      "Iteration 128, loss = 0.24195816\n",
      "Iteration 129, loss = 0.23964939\n",
      "Iteration 130, loss = 0.23991559\n",
      "Iteration 131, loss = 0.23879123\n",
      "Iteration 132, loss = 0.23699661\n",
      "Iteration 133, loss = 0.23651977\n",
      "Iteration 134, loss = 0.23535123\n",
      "Iteration 135, loss = 0.23511122\n",
      "Iteration 136, loss = 0.23454438\n",
      "Iteration 137, loss = 0.23327525\n",
      "Iteration 138, loss = 0.23195057\n",
      "Iteration 139, loss = 0.23179617\n",
      "Iteration 140, loss = 0.23173531\n",
      "Iteration 141, loss = 0.23086421\n",
      "Iteration 142, loss = 0.22969780\n",
      "Iteration 143, loss = 0.22846522\n",
      "Iteration 144, loss = 0.22771361\n",
      "Iteration 145, loss = 0.22605383\n",
      "Iteration 146, loss = 0.22597015\n",
      "Iteration 147, loss = 0.22609746\n",
      "Iteration 148, loss = 0.22431104\n",
      "Iteration 149, loss = 0.22340315\n",
      "Iteration 150, loss = 0.22252125\n",
      "Iteration 151, loss = 0.22282396\n",
      "Iteration 152, loss = 0.22117449\n",
      "Iteration 153, loss = 0.22051606\n",
      "Iteration 154, loss = 0.21940668\n",
      "Iteration 155, loss = 0.21931155\n",
      "Iteration 156, loss = 0.21919531\n",
      "Iteration 157, loss = 0.21751418\n",
      "Iteration 158, loss = 0.21708605\n",
      "Iteration 159, loss = 0.21642373\n",
      "Iteration 160, loss = 0.21568215\n",
      "Iteration 161, loss = 0.21616225\n",
      "Iteration 162, loss = 0.21462144\n",
      "Iteration 163, loss = 0.21357913\n",
      "Iteration 164, loss = 0.21235685\n",
      "Iteration 165, loss = 0.21160818\n",
      "Iteration 166, loss = 0.21067351\n",
      "Iteration 167, loss = 0.21062200\n",
      "Iteration 168, loss = 0.21009071\n",
      "Iteration 169, loss = 0.20988192\n",
      "Iteration 170, loss = 0.20839353\n",
      "Iteration 171, loss = 0.20714422\n",
      "Iteration 172, loss = 0.20798776\n",
      "Iteration 173, loss = 0.20615168\n",
      "Iteration 174, loss = 0.20487088\n",
      "Iteration 175, loss = 0.20473146\n",
      "Iteration 176, loss = 0.20332425\n",
      "Iteration 177, loss = 0.20338080\n",
      "Iteration 178, loss = 0.20287845\n",
      "Iteration 179, loss = 0.20260694\n",
      "Iteration 180, loss = 0.20135904\n",
      "Iteration 181, loss = 0.20075570\n",
      "Iteration 182, loss = 0.19994523\n",
      "Iteration 183, loss = 0.19914724\n",
      "Iteration 184, loss = 0.19903723\n",
      "Iteration 185, loss = 0.19775148\n",
      "Iteration 186, loss = 0.19759544\n",
      "Iteration 187, loss = 0.19595454\n",
      "Iteration 188, loss = 0.19611555\n",
      "Iteration 189, loss = 0.19599466\n",
      "Iteration 190, loss = 0.19600218\n",
      "Iteration 191, loss = 0.19435577\n",
      "Iteration 192, loss = 0.19231051\n",
      "Iteration 193, loss = 0.19295784\n",
      "Iteration 194, loss = 0.19200291\n",
      "Iteration 195, loss = 0.19085499\n",
      "Iteration 196, loss = 0.19055398\n",
      "Iteration 197, loss = 0.19132506\n",
      "Iteration 198, loss = 0.18922892\n",
      "Iteration 199, loss = 0.18771831\n",
      "Iteration 200, loss = 0.18920890\n",
      "Iteration 201, loss = 0.18751205\n",
      "Iteration 202, loss = 0.18686098\n",
      "Iteration 203, loss = 0.18608844\n",
      "Iteration 204, loss = 0.18580675\n",
      "Iteration 205, loss = 0.18459390\n",
      "Iteration 206, loss = 0.18396063\n",
      "Iteration 207, loss = 0.18372090\n",
      "Iteration 208, loss = 0.18353283\n",
      "Iteration 209, loss = 0.18170112\n",
      "Iteration 210, loss = 0.18242167\n",
      "Iteration 211, loss = 0.18188863\n",
      "Iteration 212, loss = 0.18048150\n",
      "Iteration 213, loss = 0.18096648\n",
      "Iteration 214, loss = 0.17980498\n",
      "Iteration 215, loss = 0.17972666\n",
      "Iteration 216, loss = 0.17791905\n",
      "Iteration 217, loss = 0.17761332\n",
      "Iteration 218, loss = 0.17654768\n",
      "Iteration 219, loss = 0.17718827\n",
      "Iteration 220, loss = 0.17574059\n",
      "Iteration 221, loss = 0.17504493\n",
      "Iteration 222, loss = 0.17541871\n",
      "Iteration 223, loss = 0.17280158\n",
      "Iteration 224, loss = 0.17276843\n",
      "Iteration 225, loss = 0.17321982\n",
      "Iteration 226, loss = 0.17311820\n",
      "Iteration 227, loss = 0.17144578\n",
      "Iteration 228, loss = 0.17085649\n",
      "Iteration 229, loss = 0.17130961\n",
      "Iteration 230, loss = 0.16973392\n",
      "Iteration 231, loss = 0.16981249\n",
      "Iteration 232, loss = 0.16913928\n",
      "Iteration 233, loss = 0.16839729\n",
      "Iteration 234, loss = 0.16857169\n",
      "Iteration 235, loss = 0.16767978\n",
      "Iteration 236, loss = 0.16731201\n",
      "Iteration 237, loss = 0.16527635\n",
      "Iteration 238, loss = 0.16624623\n",
      "Iteration 239, loss = 0.16567015\n",
      "Iteration 240, loss = 0.16477608\n",
      "Iteration 241, loss = 0.16448635\n",
      "Iteration 242, loss = 0.16427092\n",
      "Iteration 243, loss = 0.16310538\n",
      "Iteration 244, loss = 0.16339856\n",
      "Iteration 245, loss = 0.16170030\n",
      "Iteration 246, loss = 0.16158640\n",
      "Iteration 247, loss = 0.16114133\n",
      "Iteration 248, loss = 0.16085634\n",
      "Iteration 249, loss = 0.16087905\n",
      "Iteration 250, loss = 0.16019668\n",
      "Iteration 251, loss = 0.15845371\n",
      "Iteration 252, loss = 0.15882919\n",
      "Iteration 253, loss = 0.15769642\n",
      "Iteration 254, loss = 0.15752447\n",
      "Iteration 255, loss = 0.15689488\n",
      "Iteration 256, loss = 0.15542822\n",
      "Iteration 257, loss = 0.15594007\n",
      "Iteration 258, loss = 0.15445463\n",
      "Iteration 259, loss = 0.15405733\n",
      "Iteration 260, loss = 0.15378679\n",
      "Iteration 261, loss = 0.15288961\n",
      "Iteration 262, loss = 0.15164611\n",
      "Iteration 263, loss = 0.15102585\n",
      "Iteration 264, loss = 0.15242341\n",
      "Iteration 265, loss = 0.15155701\n",
      "Iteration 266, loss = 0.15051276\n",
      "Iteration 267, loss = 0.15024127\n",
      "Iteration 268, loss = 0.14915010\n",
      "Iteration 269, loss = 0.15021427\n",
      "Iteration 270, loss = 0.14928402\n",
      "Iteration 271, loss = 0.14884669\n",
      "Iteration 272, loss = 0.14928777\n",
      "Iteration 273, loss = 0.14724503\n",
      "Iteration 274, loss = 0.14695240\n",
      "Iteration 275, loss = 0.14684113\n",
      "Iteration 276, loss = 0.14589126\n",
      "Iteration 277, loss = 0.14593295\n",
      "Iteration 278, loss = 0.14507588\n",
      "Iteration 279, loss = 0.14451876\n",
      "Iteration 280, loss = 0.14494363\n",
      "Iteration 281, loss = 0.14339561\n",
      "Iteration 282, loss = 0.14398221\n",
      "Iteration 283, loss = 0.14237098\n",
      "Iteration 284, loss = 0.14285038\n",
      "Iteration 285, loss = 0.14183821\n",
      "Iteration 286, loss = 0.14130759\n",
      "Iteration 287, loss = 0.14148392\n",
      "Iteration 288, loss = 0.14111176\n",
      "Iteration 289, loss = 0.14036436\n",
      "Iteration 290, loss = 0.13971355\n",
      "Iteration 291, loss = 0.13980733\n",
      "Iteration 292, loss = 0.13953920\n",
      "Iteration 293, loss = 0.13750146\n",
      "Iteration 294, loss = 0.13874409\n",
      "Iteration 295, loss = 0.13738392\n",
      "Iteration 296, loss = 0.13739308\n",
      "Iteration 297, loss = 0.13710203\n",
      "Iteration 298, loss = 0.13635238\n",
      "Iteration 299, loss = 0.13547933\n",
      "Iteration 300, loss = 0.13464284\n",
      "Iteration 301, loss = 0.13545553\n",
      "Iteration 302, loss = 0.13468131\n",
      "Iteration 303, loss = 0.13456025\n",
      "Iteration 304, loss = 0.13281244\n",
      "Iteration 305, loss = 0.13250786\n",
      "Iteration 306, loss = 0.13208310\n",
      "Iteration 307, loss = 0.13193723\n",
      "Iteration 308, loss = 0.13136322\n",
      "Iteration 309, loss = 0.13139862\n",
      "Iteration 310, loss = 0.13047215\n",
      "Iteration 311, loss = 0.13003438\n",
      "Iteration 312, loss = 0.13033475\n",
      "Iteration 313, loss = 0.12994767\n",
      "Iteration 314, loss = 0.12970283\n",
      "Iteration 315, loss = 0.12838179\n",
      "Iteration 316, loss = 0.12874657\n",
      "Iteration 317, loss = 0.12763536\n",
      "Iteration 318, loss = 0.12664530\n",
      "Iteration 319, loss = 0.12654692\n",
      "Iteration 320, loss = 0.12737750\n",
      "Iteration 321, loss = 0.12577659\n",
      "Iteration 322, loss = 0.12589309\n",
      "Iteration 323, loss = 0.12582454\n",
      "Iteration 324, loss = 0.12545915\n",
      "Iteration 325, loss = 0.12509374\n",
      "Iteration 326, loss = 0.12520131\n",
      "Iteration 327, loss = 0.12329278\n",
      "Iteration 328, loss = 0.12398238\n",
      "Iteration 329, loss = 0.12297303\n",
      "Iteration 330, loss = 0.12360283\n",
      "Iteration 331, loss = 0.12228036\n",
      "Iteration 332, loss = 0.12153419\n",
      "Iteration 333, loss = 0.12087630\n",
      "Iteration 334, loss = 0.12160170\n",
      "Iteration 335, loss = 0.12040235\n",
      "Iteration 336, loss = 0.12023956\n",
      "Iteration 337, loss = 0.11998655\n",
      "Iteration 338, loss = 0.12026954\n",
      "Iteration 339, loss = 0.11835052\n",
      "Iteration 340, loss = 0.11906802\n",
      "Iteration 341, loss = 0.11800792\n",
      "Iteration 342, loss = 0.11807377\n",
      "Iteration 343, loss = 0.11717207\n",
      "Iteration 344, loss = 0.11676613\n",
      "Iteration 345, loss = 0.11715721\n",
      "Iteration 346, loss = 0.11618672\n",
      "Iteration 347, loss = 0.11521497\n",
      "Iteration 348, loss = 0.11509597\n",
      "Iteration 349, loss = 0.11585263\n",
      "Iteration 350, loss = 0.11487159\n",
      "Iteration 351, loss = 0.11384749\n",
      "Iteration 352, loss = 0.11385555\n",
      "Iteration 353, loss = 0.11435973\n",
      "Iteration 354, loss = 0.11378280\n",
      "Iteration 355, loss = 0.11393531\n",
      "Iteration 356, loss = 0.11257539\n",
      "Iteration 357, loss = 0.11249994\n",
      "Iteration 358, loss = 0.11188289\n",
      "Iteration 359, loss = 0.11086259\n",
      "Iteration 360, loss = 0.11202420\n",
      "Iteration 361, loss = 0.11038042\n",
      "Iteration 362, loss = 0.11092884\n",
      "Iteration 363, loss = 0.10970892\n",
      "Iteration 364, loss = 0.10932531\n",
      "Iteration 365, loss = 0.10915307\n",
      "Iteration 366, loss = 0.10776121\n",
      "Iteration 367, loss = 0.10930576\n",
      "Iteration 368, loss = 0.10814397\n",
      "Iteration 369, loss = 0.10791304\n",
      "Iteration 370, loss = 0.10901494\n",
      "Iteration 371, loss = 0.10745400\n",
      "Iteration 372, loss = 0.10727602\n",
      "Iteration 373, loss = 0.10589544\n",
      "Iteration 374, loss = 0.10734655\n",
      "Iteration 375, loss = 0.10515834\n",
      "Iteration 376, loss = 0.10673376\n",
      "Iteration 377, loss = 0.10474414\n",
      "Iteration 378, loss = 0.10497540\n",
      "Iteration 379, loss = 0.10475707\n",
      "Iteration 380, loss = 0.10430401\n",
      "Iteration 381, loss = 0.10377751\n",
      "Iteration 382, loss = 0.10352030\n",
      "Iteration 383, loss = 0.10322213\n",
      "Iteration 384, loss = 0.10175128\n",
      "Iteration 385, loss = 0.10212435\n",
      "Iteration 386, loss = 0.10275952\n",
      "Iteration 387, loss = 0.10101364\n",
      "Iteration 388, loss = 0.10134761\n",
      "Iteration 389, loss = 0.10136337\n",
      "Iteration 390, loss = 0.10063889\n",
      "Iteration 391, loss = 0.10094127\n",
      "Iteration 392, loss = 0.10038239\n",
      "Iteration 393, loss = 0.10030228\n",
      "Iteration 394, loss = 0.09933166\n",
      "Iteration 395, loss = 0.09994940\n",
      "Iteration 396, loss = 0.09881923\n",
      "Iteration 397, loss = 0.09971228\n",
      "Iteration 398, loss = 0.09808906\n",
      "Iteration 399, loss = 0.09786919\n",
      "Iteration 400, loss = 0.09721303\n",
      "Iteration 401, loss = 0.09754353\n",
      "Iteration 402, loss = 0.09805485\n",
      "Iteration 403, loss = 0.09666159\n",
      "Iteration 404, loss = 0.09648308\n",
      "Iteration 405, loss = 0.09635960\n",
      "Iteration 406, loss = 0.09602706\n",
      "Iteration 407, loss = 0.09621054\n",
      "Iteration 408, loss = 0.09622688\n",
      "Iteration 409, loss = 0.09536648\n",
      "Iteration 410, loss = 0.09488963\n",
      "Iteration 411, loss = 0.09385067\n",
      "Iteration 412, loss = 0.09475250\n",
      "Iteration 413, loss = 0.09346312\n",
      "Iteration 414, loss = 0.09394040\n",
      "Iteration 415, loss = 0.09421744\n",
      "Iteration 416, loss = 0.09307531\n",
      "Iteration 417, loss = 0.09255822\n",
      "Iteration 418, loss = 0.09271244\n",
      "Iteration 419, loss = 0.09142420\n",
      "Iteration 420, loss = 0.09196335\n",
      "Iteration 421, loss = 0.09128888\n",
      "Iteration 422, loss = 0.09092088\n",
      "Iteration 423, loss = 0.09039947\n",
      "Iteration 424, loss = 0.09051587\n",
      "Iteration 425, loss = 0.08982315\n",
      "Iteration 426, loss = 0.08976460\n",
      "Iteration 427, loss = 0.08914403\n",
      "Iteration 428, loss = 0.08950793\n",
      "Iteration 429, loss = 0.08905671\n",
      "Iteration 430, loss = 0.08855606\n",
      "Iteration 431, loss = 0.08950714\n",
      "Iteration 432, loss = 0.08794134\n",
      "Iteration 433, loss = 0.08824635\n",
      "Iteration 434, loss = 0.08762152\n",
      "Iteration 435, loss = 0.08701788\n",
      "Iteration 436, loss = 0.08705030\n",
      "Iteration 437, loss = 0.08712449\n",
      "Iteration 438, loss = 0.08702086\n",
      "Iteration 439, loss = 0.08699286\n",
      "Iteration 440, loss = 0.08532692\n",
      "Iteration 441, loss = 0.08631986\n",
      "Iteration 442, loss = 0.08518698\n",
      "Iteration 443, loss = 0.08538666\n",
      "Iteration 444, loss = 0.08407983\n",
      "Iteration 445, loss = 0.08529380\n",
      "Iteration 446, loss = 0.08421749\n",
      "Iteration 447, loss = 0.08453531\n",
      "Iteration 448, loss = 0.08352435\n",
      "Iteration 449, loss = 0.08418330\n",
      "Iteration 450, loss = 0.08265864\n",
      "Iteration 451, loss = 0.08319440\n",
      "Iteration 452, loss = 0.08241444\n",
      "Iteration 453, loss = 0.08292909\n",
      "Iteration 454, loss = 0.08280782\n",
      "Iteration 455, loss = 0.08205407\n",
      "Iteration 456, loss = 0.08141429\n",
      "Iteration 457, loss = 0.08160378\n",
      "Iteration 458, loss = 0.08121562\n",
      "Iteration 459, loss = 0.08168995\n",
      "Iteration 460, loss = 0.08127068\n",
      "Iteration 461, loss = 0.08130664\n",
      "Iteration 462, loss = 0.08119979\n",
      "Iteration 463, loss = 0.08082230\n",
      "Iteration 464, loss = 0.08016205\n",
      "Iteration 465, loss = 0.07922855\n",
      "Iteration 466, loss = 0.08014596\n",
      "Iteration 467, loss = 0.07910898\n",
      "Iteration 468, loss = 0.07883507\n",
      "Iteration 469, loss = 0.07898694\n",
      "Iteration 470, loss = 0.07817921\n",
      "Iteration 471, loss = 0.07825399\n",
      "Iteration 472, loss = 0.07777001\n",
      "Iteration 473, loss = 0.07799575\n",
      "Iteration 474, loss = 0.07676450\n",
      "Iteration 475, loss = 0.07702862\n",
      "Iteration 476, loss = 0.07609554\n",
      "Iteration 477, loss = 0.07783821\n",
      "Iteration 478, loss = 0.07733146\n",
      "Iteration 479, loss = 0.07680213\n",
      "Iteration 480, loss = 0.07676648\n",
      "Iteration 481, loss = 0.07607687\n",
      "Iteration 482, loss = 0.07566657\n",
      "Iteration 483, loss = 0.07639878\n",
      "Iteration 484, loss = 0.07458232\n",
      "Iteration 485, loss = 0.07564451\n",
      "Iteration 486, loss = 0.07443284\n",
      "Iteration 487, loss = 0.07447417\n",
      "Iteration 488, loss = 0.07432284\n",
      "Iteration 489, loss = 0.07417568\n",
      "Iteration 490, loss = 0.07370374\n",
      "Iteration 491, loss = 0.07358168\n",
      "Iteration 492, loss = 0.07285861\n",
      "Iteration 493, loss = 0.07363888\n",
      "Iteration 494, loss = 0.07244085\n",
      "Iteration 495, loss = 0.07204061\n",
      "Iteration 496, loss = 0.07252063\n",
      "Iteration 497, loss = 0.07213507\n",
      "Iteration 498, loss = 0.07196764\n",
      "Iteration 499, loss = 0.07140538\n",
      "Iteration 500, loss = 0.07123556\n",
      "Iteration 501, loss = 0.07104226\n",
      "Iteration 502, loss = 0.07129278\n",
      "Iteration 503, loss = 0.07126502\n",
      "Iteration 504, loss = 0.07026433\n",
      "Iteration 505, loss = 0.07079105\n",
      "Iteration 506, loss = 0.07015751\n",
      "Iteration 507, loss = 0.06998205\n",
      "Iteration 508, loss = 0.06941376\n",
      "Iteration 509, loss = 0.06958151\n",
      "Iteration 510, loss = 0.06949345\n",
      "Iteration 511, loss = 0.06904143\n",
      "Iteration 512, loss = 0.06882026\n",
      "Iteration 513, loss = 0.06916086\n",
      "Iteration 514, loss = 0.06829887\n",
      "Iteration 515, loss = 0.06815723\n",
      "Iteration 516, loss = 0.06762123\n",
      "Iteration 517, loss = 0.06809134\n",
      "Iteration 518, loss = 0.06847608\n",
      "Iteration 519, loss = 0.06735599\n",
      "Iteration 520, loss = 0.06748968\n",
      "Iteration 521, loss = 0.06712306\n",
      "Iteration 522, loss = 0.06685522\n",
      "Iteration 523, loss = 0.06616251\n",
      "Iteration 524, loss = 0.06640212\n",
      "Iteration 525, loss = 0.06616466\n",
      "Iteration 526, loss = 0.06561630\n",
      "Iteration 527, loss = 0.06584486\n",
      "Iteration 528, loss = 0.06574756\n",
      "Iteration 529, loss = 0.06532336\n",
      "Iteration 530, loss = 0.06496694\n",
      "Iteration 531, loss = 0.06516526\n",
      "Iteration 532, loss = 0.06502571\n",
      "Iteration 533, loss = 0.06514598\n",
      "Iteration 534, loss = 0.06449403\n",
      "Iteration 535, loss = 0.06426843\n",
      "Iteration 536, loss = 0.06381530\n",
      "Iteration 537, loss = 0.06396031\n",
      "Iteration 538, loss = 0.06359209\n",
      "Iteration 539, loss = 0.06335363\n",
      "Iteration 540, loss = 0.06275280\n",
      "Iteration 541, loss = 0.06262431\n",
      "Iteration 542, loss = 0.06367085\n",
      "Iteration 543, loss = 0.06286550\n",
      "Iteration 544, loss = 0.06179838\n",
      "Iteration 545, loss = 0.06176697\n",
      "Iteration 546, loss = 0.06281580\n",
      "Iteration 547, loss = 0.06181482\n",
      "Iteration 548, loss = 0.06240643\n",
      "Iteration 549, loss = 0.06121527\n",
      "Iteration 550, loss = 0.06095472\n",
      "Iteration 551, loss = 0.06069824\n",
      "Iteration 552, loss = 0.06028113\n",
      "Iteration 553, loss = 0.06218157\n",
      "Iteration 554, loss = 0.06096188\n",
      "Iteration 555, loss = 0.06000146\n",
      "Iteration 556, loss = 0.06078164\n",
      "Iteration 557, loss = 0.06003002\n",
      "Iteration 558, loss = 0.05901921\n",
      "Iteration 559, loss = 0.05971388\n",
      "Iteration 560, loss = 0.06013682\n",
      "Iteration 561, loss = 0.06054056\n",
      "Iteration 562, loss = 0.05999404\n",
      "Iteration 563, loss = 0.05935267\n",
      "Iteration 564, loss = 0.05860845\n",
      "Iteration 565, loss = 0.05864720\n",
      "Iteration 566, loss = 0.05816408\n",
      "Iteration 567, loss = 0.05866409\n",
      "Iteration 568, loss = 0.05808378\n",
      "Iteration 569, loss = 0.05809310\n",
      "Iteration 570, loss = 0.05807654\n",
      "Iteration 571, loss = 0.05776786\n",
      "Iteration 572, loss = 0.05711963\n",
      "Iteration 573, loss = 0.05771000\n",
      "Iteration 574, loss = 0.05633887\n",
      "Iteration 575, loss = 0.05707776\n",
      "Iteration 576, loss = 0.05672991\n",
      "Iteration 577, loss = 0.05684211\n",
      "Iteration 578, loss = 0.05723901\n",
      "Iteration 579, loss = 0.05699926\n",
      "Iteration 580, loss = 0.05548711\n",
      "Iteration 581, loss = 0.05556161\n",
      "Iteration 582, loss = 0.05593757\n",
      "Iteration 583, loss = 0.05629284\n",
      "Iteration 584, loss = 0.05535877\n",
      "Iteration 585, loss = 0.05527645\n",
      "Iteration 586, loss = 0.05505845\n",
      "Iteration 587, loss = 0.05473123\n",
      "Iteration 588, loss = 0.05473107\n",
      "Iteration 589, loss = 0.05470090\n",
      "Iteration 590, loss = 0.05401463\n",
      "Iteration 591, loss = 0.05507908\n",
      "Iteration 592, loss = 0.05440897\n",
      "Iteration 593, loss = 0.05417500\n",
      "Iteration 594, loss = 0.05415482\n",
      "Iteration 595, loss = 0.05364702\n",
      "Iteration 596, loss = 0.05329336\n",
      "Iteration 597, loss = 0.05294005\n",
      "Iteration 598, loss = 0.05302787\n",
      "Iteration 599, loss = 0.05329261\n",
      "Iteration 600, loss = 0.05310719\n",
      "Iteration 601, loss = 0.05235673\n",
      "Iteration 602, loss = 0.05233888\n",
      "Iteration 603, loss = 0.05239639\n",
      "Iteration 604, loss = 0.05239303\n",
      "Iteration 605, loss = 0.05163000\n",
      "Iteration 606, loss = 0.05218439\n",
      "Iteration 607, loss = 0.05169070\n",
      "Iteration 608, loss = 0.05154429\n",
      "Iteration 609, loss = 0.05115215\n",
      "Iteration 610, loss = 0.05159522\n",
      "Iteration 611, loss = 0.05096532\n",
      "Iteration 612, loss = 0.05072740\n",
      "Iteration 613, loss = 0.05114818\n",
      "Iteration 614, loss = 0.05053977\n",
      "Iteration 615, loss = 0.05103460\n",
      "Iteration 616, loss = 0.05047874\n",
      "Iteration 617, loss = 0.05028912\n",
      "Iteration 618, loss = 0.05012675\n",
      "Iteration 619, loss = 0.05029066\n",
      "Iteration 620, loss = 0.05014920\n",
      "Iteration 621, loss = 0.04921790\n",
      "Iteration 622, loss = 0.04953801\n",
      "Iteration 623, loss = 0.05028684\n",
      "Iteration 624, loss = 0.04913786\n",
      "Iteration 625, loss = 0.04893516\n",
      "Iteration 626, loss = 0.04876378\n",
      "Iteration 627, loss = 0.04895802\n",
      "Iteration 628, loss = 0.04850193\n",
      "Iteration 629, loss = 0.04859897\n",
      "Iteration 630, loss = 0.04881217\n",
      "Iteration 631, loss = 0.04902110\n",
      "Iteration 632, loss = 0.04891099\n",
      "Iteration 633, loss = 0.04732252\n",
      "Iteration 634, loss = 0.04787415\n",
      "Iteration 635, loss = 0.04846028\n",
      "Iteration 636, loss = 0.04814180\n",
      "Iteration 637, loss = 0.04687700\n",
      "Iteration 638, loss = 0.04699786\n",
      "Iteration 639, loss = 0.04677545\n",
      "Iteration 640, loss = 0.04695606\n",
      "Iteration 641, loss = 0.04720129\n",
      "Iteration 642, loss = 0.04654558\n",
      "Iteration 643, loss = 0.04701193\n",
      "Iteration 644, loss = 0.04653077\n",
      "Iteration 645, loss = 0.04662709\n",
      "Iteration 646, loss = 0.04663145\n",
      "Iteration 647, loss = 0.04677983\n",
      "Iteration 648, loss = 0.04615414\n",
      "Iteration 649, loss = 0.04531019\n",
      "Iteration 650, loss = 0.04533898\n",
      "Iteration 651, loss = 0.04545429\n",
      "Iteration 652, loss = 0.04622131\n",
      "Iteration 653, loss = 0.04573313\n",
      "Iteration 654, loss = 0.04504485\n",
      "Iteration 655, loss = 0.04480351\n",
      "Iteration 656, loss = 0.04551090\n",
      "Iteration 657, loss = 0.04515929\n",
      "Iteration 658, loss = 0.04460858\n",
      "Iteration 659, loss = 0.04507724\n",
      "Iteration 660, loss = 0.04429030\n",
      "Iteration 661, loss = 0.04439171\n",
      "Iteration 662, loss = 0.04473845\n",
      "Iteration 663, loss = 0.04404700\n",
      "Iteration 664, loss = 0.04381854\n",
      "Iteration 665, loss = 0.04410976\n",
      "Iteration 666, loss = 0.04380719\n",
      "Iteration 667, loss = 0.04345511\n",
      "Iteration 668, loss = 0.04284176\n",
      "Iteration 669, loss = 0.04299275\n",
      "Iteration 670, loss = 0.04360261\n",
      "Iteration 671, loss = 0.04341744\n",
      "Iteration 672, loss = 0.04256334\n",
      "Iteration 673, loss = 0.04301157\n",
      "Iteration 674, loss = 0.04234810\n",
      "Iteration 675, loss = 0.04232059\n",
      "Iteration 676, loss = 0.04217975\n",
      "Iteration 677, loss = 0.04190685\n",
      "Iteration 678, loss = 0.04166875\n",
      "Iteration 679, loss = 0.04196002\n",
      "Iteration 680, loss = 0.04222266\n",
      "Iteration 681, loss = 0.04174958\n",
      "Iteration 682, loss = 0.04154611\n",
      "Iteration 683, loss = 0.04166953\n",
      "Iteration 684, loss = 0.04220175\n",
      "Iteration 685, loss = 0.04105583\n",
      "Iteration 686, loss = 0.04132560\n",
      "Iteration 687, loss = 0.04104999\n",
      "Iteration 688, loss = 0.04108508\n",
      "Iteration 689, loss = 0.04065368\n",
      "Iteration 690, loss = 0.04055212\n",
      "Iteration 691, loss = 0.04050045\n",
      "Iteration 692, loss = 0.04068759\n",
      "Iteration 693, loss = 0.04048581\n",
      "Iteration 694, loss = 0.03993779\n",
      "Iteration 695, loss = 0.04053866\n",
      "Iteration 696, loss = 0.03970811\n",
      "Iteration 697, loss = 0.04011709\n",
      "Iteration 698, loss = 0.03961288\n",
      "Iteration 699, loss = 0.03978995\n",
      "Iteration 700, loss = 0.03939923\n",
      "Iteration 701, loss = 0.03929566\n",
      "Iteration 702, loss = 0.03955539\n",
      "Iteration 703, loss = 0.03911119\n",
      "Iteration 704, loss = 0.03900988\n",
      "Iteration 705, loss = 0.03910871\n",
      "Iteration 706, loss = 0.03888692\n",
      "Iteration 707, loss = 0.03857353\n",
      "Iteration 708, loss = 0.03831572\n",
      "Iteration 709, loss = 0.03899228\n",
      "Iteration 710, loss = 0.03867817\n",
      "Iteration 711, loss = 0.03817777\n",
      "Iteration 712, loss = 0.03807520\n",
      "Iteration 713, loss = 0.03829371\n",
      "Iteration 714, loss = 0.03823386\n",
      "Iteration 715, loss = 0.03781653\n",
      "Iteration 716, loss = 0.03783152\n",
      "Iteration 717, loss = 0.03778398\n",
      "Iteration 718, loss = 0.03793615\n",
      "Iteration 719, loss = 0.03697060\n",
      "Iteration 720, loss = 0.03721076\n",
      "Iteration 721, loss = 0.03743099\n",
      "Iteration 722, loss = 0.03725972\n",
      "Iteration 723, loss = 0.03697875\n",
      "Iteration 724, loss = 0.03664124\n",
      "Iteration 725, loss = 0.03713192\n",
      "Iteration 726, loss = 0.03712005\n",
      "Iteration 727, loss = 0.03635380\n",
      "Iteration 728, loss = 0.03730214\n",
      "Iteration 729, loss = 0.03662711\n",
      "Iteration 730, loss = 0.03618626\n",
      "Iteration 731, loss = 0.03629535\n",
      "Iteration 732, loss = 0.03644088\n",
      "Iteration 733, loss = 0.03566784\n",
      "Iteration 734, loss = 0.03605222\n",
      "Iteration 735, loss = 0.03621389\n",
      "Iteration 736, loss = 0.03587886\n",
      "Iteration 737, loss = 0.03543800\n",
      "Iteration 738, loss = 0.03569817\n",
      "Iteration 739, loss = 0.03513307\n",
      "Iteration 740, loss = 0.03552716\n",
      "Iteration 741, loss = 0.03608251\n",
      "Iteration 742, loss = 0.03465545\n",
      "Iteration 743, loss = 0.03503582\n",
      "Iteration 744, loss = 0.03520747\n",
      "Iteration 745, loss = 0.03474417\n",
      "Iteration 746, loss = 0.03458447\n",
      "Iteration 747, loss = 0.03485455\n",
      "Iteration 748, loss = 0.03468688\n",
      "Iteration 749, loss = 0.03442254\n",
      "Iteration 750, loss = 0.03436860\n",
      "Iteration 751, loss = 0.03450673\n",
      "Iteration 752, loss = 0.03416972\n",
      "Iteration 753, loss = 0.03335813\n",
      "Iteration 754, loss = 0.03408158\n",
      "Iteration 755, loss = 0.03424832\n",
      "Iteration 756, loss = 0.03441035\n",
      "Iteration 757, loss = 0.03357588\n",
      "Iteration 758, loss = 0.03368416\n",
      "Iteration 759, loss = 0.03332466\n",
      "Iteration 760, loss = 0.03357224\n",
      "Iteration 761, loss = 0.03361363\n",
      "Iteration 762, loss = 0.03367399\n",
      "Iteration 763, loss = 0.03324004\n",
      "Iteration 764, loss = 0.03340897\n",
      "Training loss did not improve more than tol=0.000100 for 10 consecutive epochs. Stopping.\n",
      "\n",
      "RESULTS FOR NN\n",
      "\n",
      "NN training error: 0.003750\n",
      "NN test error: 0.142100\n"
     ]
    },
    {
     "data": {
      "image/png": "[encoded data removed]",
      "text/plain": [
       "<Figure size 720x432 with 1 Axes>"
      ]
     },
     "metadata": {
      "needs_background": "light"
     },
     "output_type": "display_data"
    }
   ],
   "source": [
    "mlp_large = MLPClassifier(\n",
    "    max_iter=1000, \n",
    "    alpha=1e-4, \n",
    "    solver='sgd', \n",
    "    tol=1e-4, \n",
    "    random_state=ID, \n",
    "    learning_rate_init=best_learning_rate, \n",
    "    hidden_layer_sizes=best_hidden_layer_sizes, \n",
    "    batch_size=best_batch_size,\n",
    "    verbose=True\n",
    ")\n",
    "mlp_large.fit(X_train, y_train)\n",
    "\n",
    "print ('\\nRESULTS FOR NN\\n')\n",
    "\n",
    "#get training and test error for the NN\n",
    "training_error = 1 - mlp_large.score(X_train, y_train)\n",
    "test_error = 1 - mlp_large.score(X_test, y_test)\n",
    "print (\"NN training error: %f\" % training_error)\n",
    "print (\"NN test error: %f\" % test_error)\n",
    "\n",
    "fig, ax = plt.subplots(figsize=(10,6))\n",
    "ax.plot(mlp_large.loss_curve_, label=\"loss with large dataset\")\n",
    "ax.plot(mlp.loss_curve_, label=\"loss with small dataset\")\n",
    "ax.legend(loc = 1)\n",
    "ax.set_xlabel('Number of iterations')\n",
    "ax.set_ylabel('Loss')\n",
    "plt.show()"
   ]
  },
  {
   "cell_type": "markdown",
   "metadata": {},
   "source": [
    "**Question B.Q1** Compare the train and test error you got with a large number of samples with the best one you obtained with only 500 data points. Comment about the results you obtained."
   ]
  },
  {
   "attachments": {},
   "cell_type": "markdown",
   "metadata": {},
   "source": [
    "<div class=\"alert alert-block alert-info\">\n",
    "<strong>ANSWER B.Q1</strong>:<br>\n",
    "\n",
    "I am reporting here the results I've obtained to compare them, as re-running the notebook may change the results. <br>\n",
    "\n",
    "| Dataset size | Train error | Test error |\n",
    "|--------------|-------------|------------|\n",
    "| 500          | 0.000000    | 0.218807   |\n",
    "| 20000        | 0.003750    | 0.142100   |\n",
    "\n",
    "The training error in the case of 500 samples is 0, meaning that the model perfectly fits the training set. This is not the case for the 20000 samples, where the training error is 0.003750. However, the test error is higher in the case of 500 samples (0.218807) than in the case of 20000 samples (0.142100). This means that the model is overfitting the training set, and it is not generalizing well to the test set. \n",
    "Indeed, having such a small training set makes it difficult for the model to generalize well to the test set. <br>\n",
    "\n",
    "As expected though, enlarging the training set makes the training error higher, but it also makes the test error lower. <br>\n",
    "\n",
    "</div>"
   ]
  },
  {
   "cell_type": "markdown",
   "metadata": {},
   "source": [
    "**TO DO B.2** Plot an example that was missclassified by NN with m=500 training data points and it is now instead correctly classified by NN with m=20000 training data points."
   ]
  },
  {
   "cell_type": "code",
   "execution_count": 68,
   "metadata": {},
   "outputs": [
    {
     "name": "stdout",
     "output_type": "stream",
     "text": [
      "INPUT:\n"
     ]
    },
    {
     "data": {
      "image/png": "[encoded data removed]",
      "text/plain": [
       "<Figure size 432x288 with 1 Axes>"
      ]
     },
     "metadata": {
      "needs_background": "light"
     },
     "output_type": "display_data"
    },
    {
     "name": "stdout",
     "output_type": "stream",
     "text": [
      "LABEL: 0\n",
      "NN prediction for m=500: 3\n",
      "NN prediction for m=20000: 0\n"
     ]
    }
   ],
   "source": [
    "NN_prediction = mlp.predict(X_test)\n",
    "large_NN_prediction = mlp_large.predict(X_test)\n",
    "\n",
    "for i, (p, pl, l) in enumerate(zip(NN_prediction, large_NN_prediction, y_test)):\n",
    "    if p != l and pl == l:\n",
    "        plot_input(X_test, y_test, i)\n",
    "        print(\"NN prediction for m=500:\", p)\n",
    "        print(\"NN prediction for m=20000:\", pl)\n",
    "        break"
   ]
  },
  {
   "cell_type": "markdown",
   "metadata": {},
   "source": [
    "**TO DO B.3** Plot the weigths of the multi-layer perceptron classifier, for the best NN we get with 500 data points and with 20000 data points. <br>\n",
    "Note that the code is provided, you just need to change the `mlp` variable name to the one used before - if you changed it.  "
   ]
  },
  {
   "cell_type": "code",
   "execution_count": 69,
   "metadata": {},
   "outputs": [
    {
     "name": "stdout",
     "output_type": "stream",
     "text": [
      "Weights with 500 data points:\n"
     ]
    },
    {
     "data": {
      "image/png": "[encoded data removed]",
      "text/plain": [
       "<Figure size 432x288 with 16 Axes>"
      ]
     },
     "metadata": {},
     "output_type": "display_data"
    },
    {
     "name": "stdout",
     "output_type": "stream",
     "text": [
      "Weights with 20000 data points:\n"
     ]
    },
    {
     "data": {
      "image/png": "[encoded data removed]",
      "text/plain": [
       "<Figure size 432x288 with 16 Axes>"
      ]
     },
     "metadata": {},
     "output_type": "display_data"
    }
   ],
   "source": [
    "print(\"Weights with 500 data points:\")\n",
    "fig, axes = plt.subplots(4, 4)\n",
    "vmin, vmax = mlp.coefs_[0].min(), mlp.coefs_[0].max()\n",
    "for coef, ax in zip(mlp.coefs_[0].T, axes.ravel()):\n",
    "    ax.matshow(coef.reshape(28, 28), cmap=plt.cm.gray, vmin=.5 * vmin,\n",
    "               vmax=.5 * vmax)\n",
    "    ax.set_xticks(())\n",
    "    ax.set_yticks(())\n",
    "\n",
    "plt.show()\n",
    "\n",
    "print(\"Weights with 20000 data points:\")\n",
    "fig, axes = plt.subplots(4, 4)\n",
    "vmin, vmax = mlp_large.coefs_[0].min(), mlp_large.coefs_[0].max()\n",
    "for coef, ax in zip(mlp.coefs_[0].T, axes.ravel()):\n",
    "    ax.matshow(coef.reshape(28, 28), cmap=plt.cm.gray, vmin=.5 * vmin,\n",
    "               vmax=.5 * vmax)\n",
    "    ax.set_xticks(())\n",
    "    ax.set_yticks(())\n",
    "plt.show()"
   ]
  },
  {
   "cell_type": "markdown",
   "metadata": {},
   "source": [
    "**Question B.Q2** Describe what do you observe by looking at the weights"
   ]
  },
  {
   "attachments": {},
   "cell_type": "markdown",
   "metadata": {},
   "source": [
    "<div class=\"alert alert-block alert-info\">\n",
    "<strong>ANSWER B.Q2</strong>:<br>\n",
    "\n",
    "The first thing we notice is that in the case of 500 samples, the weights are much more noisy than in the case of 20000 samples. In fact, it is really hard to understand what is going on in the case of 500 samples. Sometimes in the 20000 samples case it seems that the weights slightly reproduce the images we are feeding to the network. <br>\n",
    "\n",
    "</div>"
   ]
  },
  {
   "cell_type": "markdown",
   "metadata": {},
   "source": [
    "**TO DO B.4** Create a SVM classifier with the following parameters: `kernel='rbf', C=10, gamma=0.01`. <br>\n",
    "Fit it on a few data points and compute its training and test scores."
   ]
  },
  {
   "cell_type": "code",
   "execution_count": 70,
   "metadata": {},
   "outputs": [
    {
     "name": "stdout",
     "output_type": "stream",
     "text": [
      "RESULTS FOR SVM\n",
      "Training score SVM:\n",
      "0.0020000000000000018\n",
      "Test score SVM:\n",
      "0.19815126050420173\n"
     ]
    }
   ],
   "source": [
    "m_training = 500\n",
    "\n",
    "X_train, X_test = X[:m_training], X[m_training:]\n",
    "y_train, y_test = y[:m_training], y[m_training:]\n",
    "\n",
    "# best parameters found in the SVM notebook\n",
    "SVM = SVC(C=10, kernel='rbf', gamma=0.01, random_state=ID)\n",
    "SVM.fit(X_train, y_train)\n",
    "\n",
    "print ('RESULTS FOR SVM')\n",
    "SVM_training_error = 1-SVM.score(X_train, y_train)\n",
    "\n",
    "print(\"Training score SVM:\")\n",
    "print(SVM_training_error)\n",
    "\n",
    "SVM_test_error = 1-SVM.score(X_test, y_test)\n",
    "print(\"Test score SVM:\")\n",
    "print(SVM_test_error)"
   ]
  },
  {
   "cell_type": "code",
   "execution_count": 71,
   "metadata": {},
   "outputs": [
    {
     "name": "stdout",
     "output_type": "stream",
     "text": [
      "RESULTS FOR SVM\n",
      "Training score SVM:\n",
      "0.02090000000000003\n",
      "Test score SVM:\n",
      "0.11199999999999999\n"
     ]
    }
   ],
   "source": [
    "m_training = 20000\n",
    "\n",
    "X_train, X_test = X[:m_training], X[m_training:]\n",
    "y_train, y_test = y[:m_training], y[m_training:]\n",
    "\n",
    "# best parameters found in the SVM notebook\n",
    "SVM = SVC(C=10, kernel='rbf', gamma=0.01, random_state=ID)\n",
    "SVM.fit(X_train, y_train)\n",
    "\n",
    "print ('RESULTS FOR SVM')\n",
    "SVM_training_error = 1-SVM.score(X_train, y_train)\n",
    "\n",
    "print(\"Training score SVM:\")\n",
    "print(SVM_training_error)\n",
    "\n",
    "SVM_test_error = 1-SVM.score(X_test, y_test)\n",
    "print(\"Test score SVM:\")\n",
    "print(SVM_test_error)"
   ]
  },
  {
   "cell_type": "markdown",
   "metadata": {},
   "source": [
    "**Question B.Q3** Compare the results of SVM and of NN. Which one achieves the best performances? "
   ]
  },
  {
   "attachments": {},
   "cell_type": "markdown",
   "metadata": {},
   "source": [
    "<div class=\"alert alert-block alert-info\">\n",
    "<strong>ANSWER B.Q3</strong>:<br>\n",
    "\n",
    "Let me report here the results I've obtained to compare them, as re-running the notebook may change the results. <br>\n",
    "\n",
    "| Model | Dataset size | Train error | Test error |\n",
    "|-------|--------------|-------------|------------|\n",
    "| SVM   | 500          | 0.002000    | 0.198151   |\n",
    "| SVM   | 20000        | 0.020900    | 0.111999   |\n",
    "| NN    | 500          | 0.000000    | 0.218807   |\n",
    "| NN    | 20000        | 0.003750    | 0.142100   |\n",
    "\n",
    "The SVM model generally achieves worse train errors than the NN model. However, the test errors are lower for the SVM model. This means that the SVM model is less overfitting the training set, and it is generalizing better to the test set. <br>\n",
    "\n",
    "</div>"
   ]
  }
 ],
 "metadata": {
  "kernelspec": {
   "display_name": "Python 3.9.12 ('base')",
   "language": "python",
   "name": "python3"
  },
  "language_info": {
   "codemirror_mode": {
    "name": "ipython",
    "version": 3
   },
   "file_extension": ".py",
   "mimetype": "text/x-python",
   "name": "python",
   "nbconvert_exporter": "python",
   "pygments_lexer": "ipython3",
   "version": "3.9.12"
  },
  "vscode": {
   "interpreter": {
    "hash": "91e94dacc13bcc9ab92871d8572d4c8a018895bdfb2528d081f4892614b17d07"
   }
  }
 },
 "nbformat": 4,
 "nbformat_minor": 4
}
