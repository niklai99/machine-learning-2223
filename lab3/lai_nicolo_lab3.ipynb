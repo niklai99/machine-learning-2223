{
 "cells": [
  {
   "cell_type": "markdown",
   "metadata": {},
   "source": [
    "# Machine Learning LAB 3\n",
    "# IMAGE CLASSIFICATION WITH NEURAL NETWORKS\n",
    "Course 2022/23: P. Zanuttigh, F. Barbato, M. Mel\n",
    "\n",
    "The notebook contains some simple tasks to be performed with **NEURAL NETWORKS (NNs)**. <br>\n",
    "Complete all the **required code sections** and **answer to all the questions**. <br>\n",
    "\n",
    "### IMPORTANT for the evaluation score:\n",
    "1. **Read carefully all cells** and **follow the instructions**\n",
    "2. **Re-run all the code from the beginning** to obtain the results for the final version of your notebook, since this is the way we will do it before evaluating your notebooks.\n",
    "3. Make sure to fill the code in the appropriate places **without modifying the template**, otherwise you risk breaking later cells.\n",
    "4. Please **submit the jupyter notebook file (.ipynb)**, do not submit python scripts (.py) or plain text files. **Make sure that it runs fine with the restat&run all command**.\n",
    "5. **Answer the questions in the appropriate cells**, not in the ones where the question is presented."
   ]
  },
  {
   "cell_type": "markdown",
   "metadata": {},
   "source": [
    "# Clothes Classification with Neural Networks\n",
    "\n",
    "In this notebook we are going to explore the Neural Networks for image classification. We are going to use [**Fashion MNIST**](https://github.com/zalandoresearch/fashion-mnist), a dataset of small images of clothes and accessories.\n",
    "\n",
    "The dataset labels are the following:\n",
    "\n",
    "| Label | Description |\n",
    "| --- | --- |\n",
    "| 0 | T-shirt/top |\n",
    "| 1 | Trouser |\n",
    "| 2 | Pullover |\n",
    "| 3 | Dress |\n",
    "| 4 | Coat |\n",
    "| 5 | Sandal |\n",
    "| 6 | Shirt |\n",
    "| 7 | Sneaker |\n",
    "| 8 | Bag |\n",
    "| 9 | Ankle boot |"
   ]
  },
  {
   "cell_type": "code",
   "execution_count": 1,
   "metadata": {},
   "outputs": [
    {
     "name": "stdout",
     "output_type": "stream",
     "text": [
      "scikit-learn version:  1.0.2\n"
     ]
    }
   ],
   "source": [
    "# load the required packages and check Scikit-learn version\n",
    "%matplotlib inline  \n",
    "\n",
    "import numpy as np\n",
    "from matplotlib import pyplot as plt\n",
    "\n",
    "import sklearn\n",
    "print ('scikit-learn version: ', sklearn.__version__)\n",
    "from sklearn.neural_network import MLPClassifier\n",
    "from sklearn.model_selection import GridSearchCV\n",
    "from sklearn.svm import SVC\n",
    "\n",
    "#from sklearnex import patch_sklearn # if you have an Intel CPU and have installed the Intel MKL \n",
    "#patch_sklearn()                     # library you can uncomment these lines for a speedup"
   ]
  },
  {
   "cell_type": "code",
   "execution_count": 2,
   "metadata": {},
   "outputs": [],
   "source": [
    "# helper function to load Fashion MNIST dataset from disk\n",
    "def load_mnist(path, kind='train'):\n",
    "    import os\n",
    "    import gzip\n",
    "    import numpy as np\n",
    "    labels_path = os.path.join(path, '%s-labels-idx1-ubyte.gz' % kind)\n",
    "    images_path = os.path.join(path, '%s-images-idx3-ubyte.gz' % kind)\n",
    "    with gzip.open(labels_path, 'rb') as lbpath:\n",
    "        labels = np.frombuffer(lbpath.read(), dtype=np.uint8,offset=8)\n",
    "    with gzip.open(images_path, 'rb') as imgpath:\n",
    "        images = np.frombuffer(imgpath.read(), dtype=np.uint8,offset=16).reshape(len(labels), 784)\n",
    "    return images, labels"
   ]
  },
  {
   "cell_type": "markdown",
   "metadata": {
    "tags": []
   },
   "source": [
    "Place your **name** and **ID number** (matricola) in the cell below. <br>\n",
    "Also recall to **save the file as Surname_Name_LAB3.ipynb**"
   ]
  },
  {
   "cell_type": "markdown",
   "metadata": {},
   "source": [
    "**Student name**: Mario Rossi<br>\n",
    "**ID Number**: 1234567"
   ]
  },
  {
   "cell_type": "markdown",
   "metadata": {},
   "source": [
    "# A) Hyperparameter Search"
   ]
  },
  {
   "cell_type": "markdown",
   "metadata": {},
   "source": [
    "**TO DO A.0:** **Set** the random **seed** using your **ID**. If you need to change it for testing add a constant explicitly, eg.: `ID = 1234567 + 1`."
   ]
  },
  {
   "cell_type": "code",
   "execution_count": 3,
   "metadata": {},
   "outputs": [],
   "source": [
    "ID = 2090566 + 1\n",
    "np.random.seed(ID)"
   ]
  },
  {
   "cell_type": "markdown",
   "metadata": {},
   "source": [
    "Before proceding to the training steps, we **load the dataset**. <br>\n",
    "The **split** is **performed after applying a random permutation** to the dataset, such permutation will **depend on the seed** you set above.<br><br>\n",
    "**DO NOT CHANGE THE PRE-WRITTEN CODE UNLESS OTHERWISE SPECIFIED**"
   ]
  },
  {
   "cell_type": "code",
   "execution_count": 4,
   "metadata": {},
   "outputs": [
    {
     "name": "stdout",
     "output_type": "stream",
     "text": [
      "Number of samples in the MNIST dataset: 60000\n"
     ]
    }
   ],
   "source": [
    "# load the MNIST dataset\n",
    "X, y = load_mnist(\"data\")\n",
    "print(\"Number of samples in the MNIST dataset:\", X.shape[0])\n",
    "# rescale the data to [0, 1]\n",
    "X = X / 255.0"
   ]
  },
  {
   "cell_type": "markdown",
   "metadata": {},
   "source": [
    "**TO DO A.1:** **Divide** the **data into training and test set** using a **500** samples in the **training set**. <br>\n",
    "Make sure that **each label** is present at **least 10 times** in training frequencies."
   ]
  },
  {
   "cell_type": "code",
   "execution_count": 5,
   "metadata": {},
   "outputs": [
    {
     "name": "stdout",
     "output_type": "stream",
     "text": [
      "Labels in training dataset:  [0 1 2 3 4 5 6 7 8 9]\n",
      "Frequencies in training dataset:  [55 50 51 43 47 47 43 55 57 52]\n"
     ]
    }
   ],
   "source": [
    "# randomly permute the data and split into training and test taking \n",
    "# the first 500 data samples as training and the rests as test\n",
    "permutation = np.random.permutation(X.shape[0])\n",
    "\n",
    "X = X[permutation]\n",
    "y = y[permutation]\n",
    "\n",
    "m_training = 500\n",
    "\n",
    "X_train, X_test = X[:m_training], X[m_training:]\n",
    "y_train, y_test = y[:m_training], y[m_training:]\n",
    "\n",
    "labels, freqs = np.unique(y_train, return_counts=True)\n",
    "print(\"Labels in training dataset: \", labels)\n",
    "print(\"Frequencies in training dataset: \", freqs)"
   ]
  },
  {
   "cell_type": "code",
   "execution_count": 9,
   "metadata": {},
   "outputs": [],
   "source": [
    "# function for plotting a image and printing the corresponding label\n",
    "def plot_input(X_matrix, labels, index):\n",
    "    print(\"INPUT:\")\n",
    "    plt.imshow(\n",
    "        X_matrix[index].reshape(28,28),\n",
    "        cmap          = plt.cm.gray_r,\n",
    "        interpolation = \"nearest\"\n",
    "    )\n",
    "    plt.show()\n",
    "    print(\"LABEL: %i\"%labels[index])\n",
    "    return"
   ]
  },
  {
   "cell_type": "code",
   "execution_count": 10,
   "metadata": {},
   "outputs": [
    {
     "name": "stdout",
     "output_type": "stream",
     "text": [
      "INPUT:\n"
     ]
    },
    {
     "data": {
      "image/png": "[encoded data removed]",
      "text/plain": [
       "<Figure size 432x288 with 1 Axes>"
      ]
     },
     "metadata": {
      "needs_background": "light"
     },
     "output_type": "display_data"
    },
    {
     "name": "stdout",
     "output_type": "stream",
     "text": [
      "LABEL: 0\n",
      "INPUT:\n"
     ]
    },
    {
     "data": {
      "image/png": "[encoded data removed]",
      "text/plain": [
       "<Figure size 432x288 with 1 Axes>"
      ]
     },
     "metadata": {
      "needs_background": "light"
     },
     "output_type": "display_data"
    },
    {
     "name": "stdout",
     "output_type": "stream",
     "text": [
      "LABEL: 4\n",
      "INPUT:\n"
     ]
    },
    {
     "data": {
      "image/png": "[encoded data removed]",
      "text/plain": [
       "<Figure size 432x288 with 1 Axes>"
      ]
     },
     "metadata": {
      "needs_background": "light"
     },
     "output_type": "display_data"
    },
    {
     "name": "stdout",
     "output_type": "stream",
     "text": [
      "LABEL: 6\n"
     ]
    }
   ],
   "source": [
    "# let's try the plotting function\n",
    "plot_input(X_train,y_train,10)\n",
    "plot_input(X_test,y_test,100)\n",
    "plot_input(X_test,y_test,10000)"
   ]
  },
  {
   "cell_type": "markdown",
   "metadata": {},
   "source": [
    "**TO DO A.2** Now **use a feed-forward Neural Network** for prediction. <br><br>\n",
    "Use the **multi-layer perceptron** classifier, with the following parameters: <br>\n",
    "`max_iter=250, alpha=1e-4, solver='sgd', tol=1e-4, learning_rate_init=.1, random_state=ID` <br>\n",
    "The `random_state` parameter ensures the run is the same even if you run it more than once, while the `alpha` parameter is the regularization term.<br>\n",
    "You might get some **warnings about the convergence**, ignore them (or try to increase the max_iter parameter if you have a powerful computer). <br>\n",
    "\n",
    "Then, using the default activation function, **pick four or five architectures** to consider, with different numbers of hidden layers and different sizes. <br>\n",
    "It is not necessary to create huge neural networks, you can limit to 3 layers and, for each layer, its maximum size can be of 100. <br>\n",
    "Evaluate the architectures you chose using **GridSearchCV with cv=5**. <br>\n",
    "\n",
    "You can reduce the number of iterations if the running time is too long on your computer."
   ]
  },
  {
   "cell_type": "code",
   "execution_count": 11,
   "metadata": {},
   "outputs": [
    {
     "name": "stdout",
     "output_type": "stream",
     "text": [
      "Fitting 5 folds for each of 5 candidates, totalling 25 fits\n",
      "RESULTS FOR NN\n",
      "\n",
      "Best parameters set found:\n",
      "{'hidden_layer_sizes': (25,)}\n",
      "Score with best parameters:\n",
      "0.7959999999999999\n",
      "\n",
      "Mean scores on the grid:\n",
      "[0.66  0.796 0.788 0.578 0.38 ]\n"
     ]
    }
   ],
   "source": [
    "# these are sample values but feel free to change them as you like, try to experiment with different sizes!!\n",
    "parameters = {'hidden_layer_sizes': [(10,), (25,), (50,), (25,10,), (50,25,10) ]}\n",
    "\n",
    "mlp = MLPClassifier(max_iter=1000, alpha=1e-4, solver='sgd', tol=1e-4, random_state=ID, learning_rate_init=.1)\n",
    "\n",
    "mlp_arch_CV = GridSearchCV(mlp, parameters, cv=5, n_jobs=-1, verbose=1)\n",
    "mlp_arch_CV.fit(X_train, y_train)\n",
    "\n",
    "print ('RESULTS FOR NN\\n')\n",
    "print(\"Best parameters set found:\")\n",
    "print(mlp_arch_CV.best_params_)\n",
    "\n",
    "print(\"Score with best parameters:\")\n",
    "print(mlp_arch_CV.best_score_)\n",
    "\n",
    "print(\"\\nMean scores on the grid:\")\n",
    "print(mlp_arch_CV.cv_results_['mean_test_score'])"
   ]
  },
  {
   "cell_type": "markdown",
   "metadata": {},
   "source": [
    "**TO DO A.3** Now **try different batch sizes**, while keeping the **best NN** architecture you have found above. <br>\n",
    "Remember that the batch size was previously set to the default value, i.e., `min(200, n_samples)`. <br>\n",
    "\n",
    "Recall that a **batch size of 1 corresponds to baseline SGD**, while using all the **400 training samples** (there are 500 samples but in cross validation with 5 folders we use 1/5 of them for validation at each round) corresponds to **standard GD** and using a different mini-batch size lies in the middle between the two extreme cases."
   ]
  },
  {
   "cell_type": "code",
   "execution_count": 12,
   "metadata": {},
   "outputs": [
    {
     "name": "stdout",
     "output_type": "stream",
     "text": [
      "Fitting 5 folds for each of 3 candidates, totalling 15 fits\n",
      "RESULTS FOR NN\n",
      "\n",
      "Best parameters set found:\n",
      "{'batch_size': 400}\n",
      "Score with best parameters:\n",
      "0.776\n",
      "\n",
      "All scores on the grid:\n",
      "[0.114 0.756 0.776]\n"
     ]
    }
   ],
   "source": [
    "# these are sample values corresponding to baseline SGD, a reasonable mini-batch size and standard GD\n",
    "# again feel free to change them as you like, try to experiment with different batch sizes!!\n",
    "from sklearn.model_selection import KFold\n",
    "\n",
    "\n",
    "parameters = {'batch_size': [1, 32, 400]}\n",
    "\n",
    "# need to specify that you would like to use the standard k-fold split otherwise sklearn create splits of different sizes\n",
    "kf = KFold(n_splits=5, shuffle=True, random_state=ID)\n",
    "best_hidden_layer_sizes = mlp_arch_CV.best_params_['hidden_layer_sizes']\n",
    "mlp = MLPClassifier(max_iter=1000, alpha=1e-4, solver='sgd', tol=1e-4, random_state=ID, learning_rate_init=.1, hidden_layer_sizes=best_hidden_layer_sizes)\n",
    "\n",
    "# recall to use cv=kf to use the k-fold subdivision seen in the lectures\n",
    "mlp_batch_CV = GridSearchCV(mlp, parameters, cv=kf, n_jobs=-1, verbose=1)\n",
    "mlp_batch_CV.fit(X_train, y_train)\n",
    "\n",
    "print ('RESULTS FOR NN\\n')\n",
    "print(\"Best parameters set found:\")\n",
    "print(mlp_batch_CV.best_params_)\n",
    "\n",
    "print(\"Score with best parameters:\")\n",
    "print(mlp_batch_CV.best_score_)\n",
    "\n",
    "print(\"\\nAll scores on the grid:\")\n",
    "print(mlp_batch_CV.cv_results_['mean_test_score'])"
   ]
  },
  {
   "cell_type": "markdown",
   "metadata": {},
   "source": [
    "**TO DO A.Q1**\n",
    "\n",
    "- What do you observe for different architectures and batch sizes? <br>\n",
    "- How do the number of layers and their sizes affect the performances? <br>\n",
    "- What do you observe for different batch sizes, in particular what happens to the training convergence for different batch sizes (notice that the algorithm could not converge for some batch sizes)?"
   ]
  },
  {
   "cell_type": "markdown",
   "metadata": {},
   "source": [
    "<div class=\"alert alert-block alert-info\">\n",
    "**ANSWER A.Q1**:<br>\n",
    "answer here\n",
    "    </div>"
   ]
  },
  {
   "cell_type": "markdown",
   "metadata": {},
   "source": [
    "**TO DO A.4** Now **try** to use **different learning rates**, while keeping the **best NN architecture and batch size you have found above.** <br>\n",
    "**Plot the learning curves** (i.e., the variation of the loss over the steps, you can get it from the loss_curve_ object of sklearn) for the different values of the learning rate. <br>\n",
    "You might get warnings about the convergence, this is expected. Ignore them."
   ]
  },
  {
   "cell_type": "code",
   "execution_count": 14,
   "metadata": {},
   "outputs": [
    {
     "name": "stdout",
     "output_type": "stream",
     "text": [
      "lr: 0.0004\n"
     ]
    },
    {
     "name": "stderr",
     "output_type": "stream",
     "text": [
      "/Users/niklai/miniforge3/lib/python3.9/site-packages/sklearn/neural_network/_multilayer_perceptron.py:692: ConvergenceWarning: Stochastic Optimizer: Maximum iterations (1000) reached and the optimization hasn't converged yet.\n",
      "  warnings.warn(\n"
     ]
    },
    {
     "name": "stdout",
     "output_type": "stream",
     "text": [
      "lr: 0.004\n"
     ]
    },
    {
     "name": "stderr",
     "output_type": "stream",
     "text": [
      "/Users/niklai/miniforge3/lib/python3.9/site-packages/sklearn/neural_network/_multilayer_perceptron.py:692: ConvergenceWarning: Stochastic Optimizer: Maximum iterations (1000) reached and the optimization hasn't converged yet.\n",
      "  warnings.warn(\n"
     ]
    },
    {
     "name": "stdout",
     "output_type": "stream",
     "text": [
      "lr: 0.04\n",
      "lr: 0.4\n"
     ]
    },
    {
     "data": {
      "image/png": "[encoded data removed]",
      "text/plain": [
       "<Figure size 432x288 with 1 Axes>"
      ]
     },
     "metadata": {
      "needs_background": "light"
     },
     "output_type": "display_data"
    },
    {
     "name": "stdout",
     "output_type": "stream",
     "text": [
      "RESULTS FOR NN\n",
      "\n",
      "Best parameters set found:\n",
      "{'batch_size': 400}\n",
      "Score with best parameters:\n",
      "0.776\n"
     ]
    }
   ],
   "source": [
    "lr_list = [4*10**exp for exp in range(-4,0)]\n",
    "scores = {}\n",
    "\n",
    "best_hidden_layer_sizes = mlp_arch_CV.best_params_['hidden_layer_sizes']\n",
    "best_batch_size = mlp_batch_CV.best_params_['batch_size']\n",
    "\n",
    "for lr in lr_list: \n",
    "    print(f'lr: {str(lr)}')\n",
    "    mlp = MLPClassifier(max_iter=1000, alpha=1e-4, solver='sgd', tol=1e-4, random_state=ID, learning_rate_init=lr, hidden_layer_sizes=best_hidden_layer_sizes, batch_size=best_batch_size)\n",
    "    mlp.fit(X_train, y_train)\n",
    "    scores[lr] = mlp.score(X_test, y_test)\n",
    "    plt.plot(mlp.loss_curve_, label=f'lr: {str(lr)}')\n",
    "\n",
    "plt.legend(loc = 1)\n",
    "plt.xlabel('Number of iterations')\n",
    "plt.ylabel('Loss')\n",
    "plt.show()\n",
    "\n",
    "print ('RESULTS FOR NN\\n')\n",
    "print(\"Best parameters set found:\")\n",
    "print(mlp_batch_CV.best_params_)\n",
    "\n",
    "print(\"Score with best parameters:\")\n",
    "print(mlp_batch_CV.best_score_)"
   ]
  },
  {
   "cell_type": "markdown",
   "metadata": {},
   "source": [
    "**Question A.Q2** Comment about the learning curves (i.e. the variation of the loss over the steps). <br>\n",
    "How does the curve changes for different learning rates in terms of stability and speed of convergence ?"
   ]
  },
  {
   "cell_type": "markdown",
   "metadata": {},
   "source": [
    "<div class=\"alert alert-block alert-info\">\n",
    "**ANSWER A.Q2**:<br>\n",
    "answer here\n",
    "    </div>"
   ]
  },
  {
   "cell_type": "markdown",
   "metadata": {},
   "source": [
    "**TO DO A.5** Now get **training and test error** for a NN with best parameters (architecture, batch size and learning rate)from above. Plot the learning curve also for this case. <br>\n",
    "As before, you might get a convergence warning, you can safely ignore it."
   ]
  },
  {
   "cell_type": "code",
   "execution_count": 15,
   "metadata": {
    "scrolled": true
   },
   "outputs": [
    {
     "name": "stdout",
     "output_type": "stream",
     "text": [
      "\n",
      "RESULTS FOR BEST NN\n",
      "\n",
      "Best NN training error: 1.000000\n",
      "Best NN test error: 0.771983\n"
     ]
    },
    {
     "data": {
      "image/png": "[encoded data removed]",
      "text/plain": [
       "<Figure size 432x288 with 1 Axes>"
      ]
     },
     "metadata": {
      "needs_background": "light"
     },
     "output_type": "display_data"
    }
   ],
   "source": [
    "#get training and test error for the best NN model from CV\n",
    "mlp = MLPClassifier(max_iter=1000, alpha=1e-4, solver='sgd', tol=1e-4, random_state=ID, learning_rate_init=0.04, hidden_layer_sizes=best_hidden_layer_sizes, batch_size=best_batch_size)\n",
    "mlp.fit(X_train, y_train)\n",
    "\n",
    "training_error = mlp.score(X_train, y_train)\n",
    "test_error = mlp.score(X_test, y_test)\n",
    "\n",
    "print ('\\nRESULTS FOR BEST NN\\n')\n",
    "\n",
    "print (\"Best NN training error: %f\" % training_error)\n",
    "print (\"Best NN test error: %f\" % test_error)\n",
    "\n",
    "plt.plot(mlp.loss_curve_, label=\"loss\")\n",
    "plt.legend(loc = 1)\n",
    "plt.xlabel('Number of iterations')\n",
    "plt.ylabel('Loss')\n",
    "plt.show()"
   ]
  },
  {
   "cell_type": "markdown",
   "metadata": {},
   "source": [
    "## B) More data \n",
    "Now let's do the same but **using 20000** (or less if it takes too long on your machine) **data points for training**. <br>\n",
    "Make sure you are **consistent with the choice of `m_training`** in this and the later cells. <br>\n",
    "Use the **same NN architecture** as before, but you can try more if you like and have a powerful computer!!"
   ]
  },
  {
   "cell_type": "code",
   "execution_count": 16,
   "metadata": {},
   "outputs": [
    {
     "name": "stdout",
     "output_type": "stream",
     "text": [
      "Labels in training dataset:  [0 1 2 3 4 5 6 7 8 9]\n",
      "Frequencies in training dataset:  [1975 2027 1928 1985 1949 1979 2073 1989 2039 2056]\n"
     ]
    }
   ],
   "source": [
    "X = X[permutation]\n",
    "y = y[permutation]\n",
    "\n",
    "m_training = 20000\n",
    "\n",
    "X_train, X_test = X[:m_training], X[m_training:]\n",
    "y_train, y_test = y[:m_training], y[m_training:]\n",
    "\n",
    "labels, freqs = np.unique(y_train, return_counts=True)\n",
    "print(\"Labels in training dataset: \", labels)\n",
    "print(\"Frequencies in training dataset: \", freqs)"
   ]
  },
  {
   "cell_type": "markdown",
   "metadata": {},
   "source": [
    "**TO DO B.1** Train the NNs with the added data points using the optimum parameters found above. <br>\n",
    "Eventually, feel free to try different architectures if you like. <br>\n",
    "We suggest that you use `verbose=True` so have an idea of how long it takes to run 1 iteration (eventually reduce also the number of iterations to 50). <br>\n",
    "This is just for debug purposes, **remember to switch it off** once you found a setup you like. <br>\n",
    "As before, you might get a convergence warning (especially if you reduced the number of iterations), you can safely ignore it."
   ]
  },
  {
   "cell_type": "code",
   "execution_count": 17,
   "metadata": {},
   "outputs": [
    {
     "name": "stdout",
     "output_type": "stream",
     "text": [
      "Iteration 1, loss = 1.04315917\n",
      "Iteration 2, loss = 0.57675420\n",
      "Iteration 3, loss = 0.51050216\n",
      "Iteration 4, loss = 0.47381505\n",
      "Iteration 5, loss = 0.45462662\n",
      "Iteration 6, loss = 0.43865662\n",
      "Iteration 7, loss = 0.42930555\n",
      "Iteration 8, loss = 0.41500827\n",
      "Iteration 9, loss = 0.40030647\n",
      "Iteration 10, loss = 0.39443681\n",
      "Iteration 11, loss = 0.38663988\n",
      "Iteration 12, loss = 0.38113272\n",
      "Iteration 13, loss = 0.37370151\n",
      "Iteration 14, loss = 0.36465470\n",
      "Iteration 15, loss = 0.36550890\n",
      "Iteration 16, loss = 0.35863933\n",
      "Iteration 17, loss = 0.35145841\n",
      "Iteration 18, loss = 0.34891324\n",
      "Iteration 19, loss = 0.34185630\n",
      "Iteration 20, loss = 0.33943481\n",
      "Iteration 21, loss = 0.33234869\n",
      "Iteration 22, loss = 0.33529521\n",
      "Iteration 23, loss = 0.32875832\n",
      "Iteration 24, loss = 0.32566467\n",
      "Iteration 25, loss = 0.32048109\n",
      "Iteration 26, loss = 0.31972022\n",
      "Iteration 27, loss = 0.31356059\n",
      "Iteration 28, loss = 0.31198395\n",
      "Iteration 29, loss = 0.31284600\n",
      "Iteration 30, loss = 0.30255882\n",
      "Iteration 31, loss = 0.30185594\n",
      "Iteration 32, loss = 0.29916408\n",
      "Iteration 33, loss = 0.29182871\n",
      "Iteration 34, loss = 0.29180244\n",
      "Iteration 35, loss = 0.29311701\n",
      "Iteration 36, loss = 0.28648138\n",
      "Iteration 37, loss = 0.28558955\n",
      "Iteration 38, loss = 0.28521021\n",
      "Iteration 39, loss = 0.27860899\n",
      "Iteration 40, loss = 0.27992917\n",
      "Iteration 41, loss = 0.27352908\n",
      "Iteration 42, loss = 0.27356991\n",
      "Iteration 43, loss = 0.27461956\n",
      "Iteration 44, loss = 0.26947887\n",
      "Iteration 45, loss = 0.27067886\n",
      "Iteration 46, loss = 0.26496865\n",
      "Iteration 47, loss = 0.26321800\n",
      "Iteration 48, loss = 0.26069994\n",
      "Iteration 49, loss = 0.25971356\n",
      "Iteration 50, loss = 0.25461734\n",
      "Iteration 51, loss = 0.25466555\n",
      "Iteration 52, loss = 0.25727153\n",
      "Iteration 53, loss = 0.25361734\n",
      "Iteration 54, loss = 0.25083620\n",
      "Iteration 55, loss = 0.25183082\n",
      "Iteration 56, loss = 0.24302017\n",
      "Iteration 57, loss = 0.24498219\n",
      "Iteration 58, loss = 0.24030766\n",
      "Iteration 59, loss = 0.24033813\n",
      "Iteration 60, loss = 0.24368954\n",
      "Iteration 61, loss = 0.23997746\n",
      "Iteration 62, loss = 0.24096830\n",
      "Iteration 63, loss = 0.23504923\n",
      "Iteration 64, loss = 0.23745551\n",
      "Iteration 65, loss = 0.22853531\n",
      "Iteration 66, loss = 0.22923314\n",
      "Iteration 67, loss = 0.22994239\n",
      "Iteration 68, loss = 0.22451974\n",
      "Iteration 69, loss = 0.22600647\n",
      "Iteration 70, loss = 0.22632244\n",
      "Iteration 71, loss = 0.22132342\n",
      "Iteration 72, loss = 0.21942776\n",
      "Iteration 73, loss = 0.22062903\n",
      "Iteration 74, loss = 0.22261623\n",
      "Iteration 75, loss = 0.21556830\n",
      "Iteration 76, loss = 0.21474332\n",
      "Iteration 77, loss = 0.21809422\n",
      "Iteration 78, loss = 0.21833851\n",
      "Iteration 79, loss = 0.21593207\n",
      "Iteration 80, loss = 0.22228799\n",
      "Iteration 81, loss = 0.21223256\n",
      "Iteration 82, loss = 0.20763045\n",
      "Iteration 83, loss = 0.20817220\n",
      "Iteration 84, loss = 0.20930669\n",
      "Iteration 85, loss = 0.20924281\n",
      "Iteration 86, loss = 0.20542173\n",
      "Iteration 87, loss = 0.20959255\n",
      "Iteration 88, loss = 0.20312085\n",
      "Iteration 89, loss = 0.20025287\n",
      "Iteration 90, loss = 0.19779931\n",
      "Iteration 91, loss = 0.20700980\n",
      "Iteration 92, loss = 0.20323985\n",
      "Iteration 93, loss = 0.19493220\n",
      "Iteration 94, loss = 0.19456237\n",
      "Iteration 95, loss = 0.19633984\n",
      "Iteration 96, loss = 0.19191452\n",
      "Iteration 97, loss = 0.19433106\n",
      "Iteration 98, loss = 0.19121012\n",
      "Iteration 99, loss = 0.18891716\n",
      "Iteration 100, loss = 0.18670814\n",
      "Iteration 101, loss = 0.18986119\n",
      "Iteration 102, loss = 0.18975820\n",
      "Iteration 103, loss = 0.19238374\n",
      "Iteration 104, loss = 0.18613403\n",
      "Iteration 105, loss = 0.18433784\n",
      "Iteration 106, loss = 0.18471344\n",
      "Iteration 107, loss = 0.18354475\n",
      "Iteration 108, loss = 0.18069884\n",
      "Iteration 109, loss = 0.17801803\n",
      "Iteration 110, loss = 0.18146677\n",
      "Iteration 111, loss = 0.18575361\n",
      "Iteration 112, loss = 0.17563886\n",
      "Iteration 113, loss = 0.17796042\n",
      "Iteration 114, loss = 0.17453125\n",
      "Iteration 115, loss = 0.17215703\n",
      "Iteration 116, loss = 0.17712616\n",
      "Iteration 117, loss = 0.17700866\n",
      "Iteration 118, loss = 0.17457700\n",
      "Iteration 119, loss = 0.17172060\n",
      "Iteration 120, loss = 0.17334490\n",
      "Iteration 121, loss = 0.17157178\n",
      "Iteration 122, loss = 0.16675379\n",
      "Iteration 123, loss = 0.16574531\n",
      "Iteration 124, loss = 0.17371461\n",
      "Iteration 125, loss = 0.17351012\n",
      "Iteration 126, loss = 0.16507887\n",
      "Iteration 127, loss = 0.16695278\n",
      "Iteration 128, loss = 0.16050886\n",
      "Iteration 129, loss = 0.16262210\n",
      "Iteration 130, loss = 0.16862717\n",
      "Iteration 131, loss = 0.15742743\n",
      "Iteration 132, loss = 0.16280206\n",
      "Iteration 133, loss = 0.15811373\n",
      "Iteration 134, loss = 0.16266341\n",
      "Iteration 135, loss = 0.16291555\n",
      "Iteration 136, loss = 0.15507104\n",
      "Iteration 137, loss = 0.15647168\n",
      "Iteration 138, loss = 0.15659142\n",
      "Iteration 139, loss = 0.15544935\n",
      "Iteration 140, loss = 0.15355109\n",
      "Iteration 141, loss = 0.15348900\n",
      "Iteration 142, loss = 0.16050152\n",
      "Iteration 143, loss = 0.15231381\n",
      "Iteration 144, loss = 0.15968885\n",
      "Iteration 145, loss = 0.15075760\n",
      "Iteration 146, loss = 0.15559437\n",
      "Iteration 147, loss = 0.15365506\n",
      "Iteration 148, loss = 0.15585282\n",
      "Iteration 149, loss = 0.14898748\n",
      "Iteration 150, loss = 0.14586861\n",
      "Iteration 151, loss = 0.14468678\n",
      "Iteration 152, loss = 0.15183777\n",
      "Iteration 153, loss = 0.14951983\n",
      "Iteration 154, loss = 0.14243925\n",
      "Iteration 155, loss = 0.14546525\n",
      "Iteration 156, loss = 0.14034991\n",
      "Iteration 157, loss = 0.14781500\n",
      "Iteration 158, loss = 0.14831355\n",
      "Iteration 159, loss = 0.13622089\n",
      "Iteration 160, loss = 0.14980433\n",
      "Iteration 161, loss = 0.13993238\n",
      "Iteration 162, loss = 0.14298593\n",
      "Iteration 163, loss = 0.14992440\n",
      "Iteration 164, loss = 0.14446916\n",
      "Iteration 165, loss = 0.14258240\n",
      "Iteration 166, loss = 0.13659320\n",
      "Iteration 167, loss = 0.14025132\n",
      "Iteration 168, loss = 0.13040861\n",
      "Iteration 169, loss = 0.13385835\n",
      "Iteration 170, loss = 0.13338407\n",
      "Iteration 171, loss = 0.13829548\n",
      "Iteration 172, loss = 0.13696210\n",
      "Iteration 173, loss = 0.13582152\n",
      "Iteration 174, loss = 0.13788078\n",
      "Iteration 175, loss = 0.13666137\n",
      "Iteration 176, loss = 0.12917649\n",
      "Iteration 177, loss = 0.12894510\n",
      "Iteration 178, loss = 0.13651940\n",
      "Iteration 179, loss = 0.13549242\n",
      "Iteration 180, loss = 0.13151259\n",
      "Iteration 181, loss = 0.13247142\n",
      "Iteration 182, loss = 0.12589465\n",
      "Iteration 183, loss = 0.12362556\n",
      "Iteration 184, loss = 0.13125193\n",
      "Iteration 185, loss = 0.12211936\n",
      "Iteration 186, loss = 0.13064430\n",
      "Iteration 187, loss = 0.12779559\n",
      "Iteration 188, loss = 0.12508578\n",
      "Iteration 189, loss = 0.12652021\n",
      "Iteration 190, loss = 0.12671747\n",
      "Iteration 191, loss = 0.13504545\n",
      "Iteration 192, loss = 0.12348337\n",
      "Iteration 193, loss = 0.12192257\n",
      "Iteration 194, loss = 0.12219609\n",
      "Iteration 195, loss = 0.11857168\n",
      "Iteration 196, loss = 0.11955245\n",
      "Iteration 197, loss = 0.11707748\n",
      "Iteration 198, loss = 0.12748687\n",
      "Iteration 199, loss = 0.12595874\n",
      "Iteration 200, loss = 0.11697579\n",
      "Iteration 201, loss = 0.11590691\n",
      "Iteration 202, loss = 0.12011757\n",
      "Iteration 203, loss = 0.11334906\n",
      "Iteration 204, loss = 0.11596456\n",
      "Iteration 205, loss = 0.12128924\n",
      "Iteration 206, loss = 0.10883119\n",
      "Iteration 207, loss = 0.12138520\n",
      "Iteration 208, loss = 0.11513928\n",
      "Iteration 209, loss = 0.12441821\n",
      "Iteration 210, loss = 0.11207084\n",
      "Iteration 211, loss = 0.11489770\n",
      "Iteration 212, loss = 0.12116628\n",
      "Iteration 213, loss = 0.10973540\n",
      "Iteration 214, loss = 0.11159676\n",
      "Iteration 215, loss = 0.10795188\n",
      "Iteration 216, loss = 0.11226762\n",
      "Iteration 217, loss = 0.10469971\n",
      "Iteration 218, loss = 0.11450833\n",
      "Iteration 219, loss = 0.10676540\n",
      "Iteration 220, loss = 0.11155213\n",
      "Iteration 221, loss = 0.12094315\n",
      "Iteration 222, loss = 0.10327344\n",
      "Iteration 223, loss = 0.10416504\n",
      "Iteration 224, loss = 0.10944441\n",
      "Iteration 225, loss = 0.10937371\n",
      "Iteration 226, loss = 0.11325610\n",
      "Iteration 227, loss = 0.11301801\n",
      "Iteration 228, loss = 0.11705897\n",
      "Iteration 229, loss = 0.10570314\n",
      "Iteration 230, loss = 0.10608978\n",
      "Iteration 231, loss = 0.09953786\n",
      "Iteration 232, loss = 0.10155614\n",
      "Iteration 233, loss = 0.12773038\n",
      "Iteration 234, loss = 0.10699767\n",
      "Iteration 235, loss = 0.09440926\n",
      "Iteration 236, loss = 0.10779647\n",
      "Iteration 237, loss = 0.09715342\n",
      "Iteration 238, loss = 0.10465421\n",
      "Iteration 239, loss = 0.10324328\n",
      "Iteration 240, loss = 0.10646530\n",
      "Iteration 241, loss = 0.10349073\n",
      "Iteration 242, loss = 0.10916110\n",
      "Iteration 243, loss = 0.09959990\n",
      "Iteration 244, loss = 0.09099764\n",
      "Iteration 245, loss = 0.09869882\n",
      "Iteration 246, loss = 0.10860209\n",
      "Iteration 247, loss = 0.09823101\n",
      "Iteration 248, loss = 0.09213886\n",
      "Iteration 249, loss = 0.09352505\n",
      "Iteration 250, loss = 0.09582567\n",
      "Iteration 251, loss = 0.09582794\n",
      "Iteration 252, loss = 0.09093572\n",
      "Iteration 253, loss = 0.11321131\n",
      "Iteration 254, loss = 0.09682527\n",
      "Iteration 255, loss = 0.08997921\n",
      "Iteration 256, loss = 0.09511100\n",
      "Iteration 257, loss = 0.08580269\n",
      "Iteration 258, loss = 0.08728395\n",
      "Iteration 259, loss = 0.08640374\n",
      "Iteration 260, loss = 0.10007733\n",
      "Iteration 261, loss = 0.08885560\n",
      "Iteration 262, loss = 0.09582828\n",
      "Iteration 263, loss = 0.10965051\n",
      "Iteration 264, loss = 0.09207302\n",
      "Iteration 265, loss = 0.08795198\n",
      "Iteration 266, loss = 0.09916753\n",
      "Iteration 267, loss = 0.11097274\n",
      "Iteration 268, loss = 0.08627805\n",
      "Training loss did not improve more than tol=0.000100 for 10 consecutive epochs. Stopping.\n",
      "\n",
      "RESULTS FOR NN\n",
      "\n",
      "NN training error: 0.978950\n",
      "NN test error: 0.842825\n"
     ]
    }
   ],
   "source": [
    "mlp_large = MLPClassifier(\n",
    "    max_iter=1000, \n",
    "    alpha=1e-4, \n",
    "    solver='sgd', \n",
    "    tol=1e-4, \n",
    "    random_state=ID, \n",
    "    learning_rate_init=0.04, \n",
    "    hidden_layer_sizes=best_hidden_layer_sizes, \n",
    "    batch_size=best_batch_size,\n",
    "    verbose=True\n",
    ")\n",
    "mlp_large.fit(X_train, y_train)\n",
    "\n",
    "print ('\\nRESULTS FOR NN\\n')\n",
    "\n",
    "#get training and test error for the NN\n",
    "training_error = mlp_large.score(X_train, y_train)\n",
    "test_error = mlp_large.score(X_test, y_test)\n",
    "print (\"NN training error: %f\" % training_error)\n",
    "print (\"NN test error: %f\" % test_error)"
   ]
  },
  {
   "cell_type": "markdown",
   "metadata": {},
   "source": [
    "**Question B.Q1** Compare the train and test error you got with a large number of samples with the best one you obtained with only 500 data points. Comment about the results you obtained."
   ]
  },
  {
   "cell_type": "markdown",
   "metadata": {},
   "source": [
    "<div class=\"alert alert-block alert-info\">\n",
    "**ANSWER B.Q1**:<br>\n",
    "answer here\n",
    "    </div>"
   ]
  },
  {
   "cell_type": "markdown",
   "metadata": {},
   "source": [
    "**TO DO B.2** Plot an example that was missclassified by NN with m=500 training data points and it is now instead correctly classified by NN with m=20000 training data points."
   ]
  },
  {
   "cell_type": "code",
   "execution_count": 18,
   "metadata": {},
   "outputs": [
    {
     "name": "stdout",
     "output_type": "stream",
     "text": [
      "INPUT:\n"
     ]
    },
    {
     "data": {
      "image/png": "[encoded data removed]",
      "text/plain": [
       "<Figure size 432x288 with 1 Axes>"
      ]
     },
     "metadata": {
      "needs_background": "light"
     },
     "output_type": "display_data"
    },
    {
     "name": "stdout",
     "output_type": "stream",
     "text": [
      "LABEL: 5\n",
      "NN prediction for m=500: 7\n",
      "NN prediction for m=20000: 5\n"
     ]
    }
   ],
   "source": [
    "NN_prediction = mlp.predict(X_test)\n",
    "large_NN_prediction = mlp_large.predict(X_test)\n",
    "\n",
    "for i, (p, pl, l) in enumerate(zip(NN_prediction, large_NN_prediction, y_test)):\n",
    "    if p != l and pl == l:\n",
    "        plot_input(X_test, y_test, i)\n",
    "        print(\"NN prediction for m=500:\", p)\n",
    "        print(\"NN prediction for m=20000:\", pl)\n",
    "        break"
   ]
  },
  {
   "cell_type": "markdown",
   "metadata": {},
   "source": [
    "**TO DO B.3** Plot the weigths of the multi-layer perceptron classifier, for the best NN we get with 500 data points and with 20000 data points. <br>\n",
    "Note that the code is provided, you just need to change the `mlp` variable name to the one used before - if you changed it.  "
   ]
  },
  {
   "cell_type": "code",
   "execution_count": 19,
   "metadata": {},
   "outputs": [
    {
     "name": "stdout",
     "output_type": "stream",
     "text": [
      "Weights with 500 data points:\n"
     ]
    },
    {
     "data": {
      "image/png": "[encoded data removed]",
      "text/plain": [
       "<Figure size 432x288 with 16 Axes>"
      ]
     },
     "metadata": {},
     "output_type": "display_data"
    },
    {
     "name": "stdout",
     "output_type": "stream",
     "text": [
      "Weights with 20000 data points:\n"
     ]
    },
    {
     "data": {
      "image/png": "[encoded data removed]",
      "text/plain": [
       "<Figure size 432x288 with 16 Axes>"
      ]
     },
     "metadata": {},
     "output_type": "display_data"
    }
   ],
   "source": [
    "print(\"Weights with 500 data points:\")\n",
    "fig, axes = plt.subplots(4, 4)\n",
    "vmin, vmax = mlp.coefs_[0].min(), mlp.coefs_[0].max()\n",
    "for coef, ax in zip(mlp.coefs_[0].T, axes.ravel()):\n",
    "    ax.matshow(coef.reshape(28, 28), cmap=plt.cm.gray, vmin=.5 * vmin,\n",
    "               vmax=.5 * vmax)\n",
    "    ax.set_xticks(())\n",
    "    ax.set_yticks(())\n",
    "\n",
    "plt.show()\n",
    "\n",
    "print(\"Weights with 20000 data points:\")\n",
    "fig, axes = plt.subplots(4, 4)\n",
    "vmin, vmax = mlp_large.coefs_[0].min(), mlp_large.coefs_[0].max()\n",
    "for coef, ax in zip(mlp.coefs_[0].T, axes.ravel()):\n",
    "    ax.matshow(coef.reshape(28, 28), cmap=plt.cm.gray, vmin=.5 * vmin,\n",
    "               vmax=.5 * vmax)\n",
    "    ax.set_xticks(())\n",
    "    ax.set_yticks(())\n",
    "plt.show()"
   ]
  },
  {
   "cell_type": "markdown",
   "metadata": {},
   "source": [
    "**Question B.Q2** Describe what do you observe by looking at the weights"
   ]
  },
  {
   "cell_type": "markdown",
   "metadata": {},
   "source": [
    "<div class=\"alert alert-block alert-info\">\n",
    "**ANSWER B.Q2**:<br>\n",
    "answer here\n",
    "    </div>"
   ]
  },
  {
   "cell_type": "markdown",
   "metadata": {},
   "source": [
    "**TO DO B.4** Create a SVM classifier with the following parameters: `kernel='rbf', C=10, gamma=0.01`. <br>\n",
    "Fit it on a few data points and compute its training and test scores."
   ]
  },
  {
   "cell_type": "code",
   "execution_count": 21,
   "metadata": {},
   "outputs": [
    {
     "name": "stdout",
     "output_type": "stream",
     "text": [
      "RESULTS FOR SVM\n",
      "Training score SVM:\n",
      "1.0\n",
      "Test score SVM:\n",
      "0.7964873949579832\n"
     ]
    }
   ],
   "source": [
    "m_training = 500\n",
    "\n",
    "X_train, X_test = X[:m_training], X[m_training:]\n",
    "y_train, y_test = y[:m_training], y[m_training:]\n",
    "\n",
    "# best parameters found in the SVM notebook\n",
    "SVM = SVC(C=10, kernel='rbf', gamma=0.01, random_state=ID)\n",
    "SVM.fit(X_train, y_train)\n",
    "\n",
    "print ('RESULTS FOR SVM')\n",
    "SVM_training_error = SVM.score(X_train, y_train)\n",
    "\n",
    "print(\"Training score SVM:\")\n",
    "print(SVM_training_error)\n",
    "\n",
    "SVM_test_error = SVM.score(X_test, y_test)\n",
    "print(\"Test score SVM:\")\n",
    "print(SVM_test_error)"
   ]
  },
  {
   "cell_type": "markdown",
   "metadata": {},
   "source": [
    "**Question B.Q3** Compare the results of SVM and of NN. Which one achieves the best performances? "
   ]
  },
  {
   "cell_type": "markdown",
   "metadata": {},
   "source": [
    "<div class=\"alert alert-block alert-info\">\n",
    "**ANSWER B.Q3**:<br>\n",
    "answer here\n",
    "    </div>"
   ]
  }
 ],
 "metadata": {
  "kernelspec": {
   "display_name": "Python 3.9.12 ('base')",
   "language": "python",
   "name": "python3"
  },
  "language_info": {
   "codemirror_mode": {
    "name": "ipython",
    "version": 3
   },
   "file_extension": ".py",
   "mimetype": "text/x-python",
   "name": "python",
   "nbconvert_exporter": "python",
   "pygments_lexer": "ipython3",
   "version": "3.9.12"
  },
  "vscode": {
   "interpreter": {
    "hash": "91e94dacc13bcc9ab92871d8572d4c8a018895bdfb2528d081f4892614b17d07"
   }
  }
 },
 "nbformat": 4,
 "nbformat_minor": 4
}
